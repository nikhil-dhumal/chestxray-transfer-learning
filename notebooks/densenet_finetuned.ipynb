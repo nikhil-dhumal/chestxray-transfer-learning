{
  "cells": [
    {
      "cell_type": "markdown",
      "metadata": {
        "id": "NwRfVNRLYsSp"
      },
      "source": [
        "# DenseNet121 — Fine-Tuning for Chest X-ray Classification  \n",
        "**Objective:** Fully fine-tune a pretrained DenseNet121 on the NIH ChestX-ray14 dataset for multi-label thoracic disease classification.\n",
        "\n",
        "---\n",
        "\n",
        "## 🎯 Goal of This Notebook\n",
        "\n",
        "In this notebook, we will:\n",
        "\n",
        "- Load a DenseNet121 pretrained on ImageNet  \n",
        "- **Unfreeze the entire backbone**\n",
        "- Replace the classifier for 14 disease labels\n",
        "- Train the full network end-to-end on chest X-ray data\n",
        "- Track performance and compare later with other strategies (e.g., frozen backbone)\n",
        "\n",
        "This approach lets the network **adapt its internal representations** from natural images → medical domain.\n",
        "\n",
        "---\n",
        "\n",
        "## 🧠 What is Fine-Tuning?\n",
        "\n",
        "Fine-tuning means:\n",
        "\n",
        "- **All** layers are trainable  \n",
        "- Backbone weights are updated based on medical image gradients  \n",
        "- We retain ImageNet knowledge but specialize for X-rays  \n",
        "\n",
        "This generally yields **better accuracy** than training only the classifier head.\n",
        "\n",
        "---\n",
        "\n",
        "## 🎯 Why This Approach?\n",
        "\n",
        "Fine-tuning works best when:\n",
        "\n",
        "- We have enough data (ChestX-ray14 is large)\n",
        "- We want **maximum performance**\n",
        "- We can afford additional compute time\n",
        "\n",
        "**Benefits**\n",
        "- Learns radiology-specific features\n",
        "- Typically highest AUROC & F1 scores\n",
        "\n",
        "**Trade-offs**\n",
        "- Higher GPU memory use\n",
        "- Longer training time\n",
        "\n",
        "---\n",
        "\n",
        "## 🩺 Task\n",
        "\n",
        "- Dataset: **NIH ChestX-ray14**\n",
        "- Task: **Multi-label classification (14 diseases)**\n",
        "- Input size: **224×224 RGB**\n",
        "- Output: **14 sigmoid values**\n",
        "\n",
        "---\n",
        "\n",
        "## 📦 What This Notebook Will Produce\n",
        "\n",
        "- Fully fine-tuned DenseNet121 model\n",
        "- Saved training logs & metrics\n",
        "- AUROC + F1-score evaluation\n",
        "- Loss curves to monitor training behavior\n",
        "\n",
        "---\n",
        "\n",
        "## ✅ Expected Result\n",
        "\n",
        "A fine-tuned DenseNet121 model that:\n",
        "\n",
        "- Improves upon baseline performance\n",
        "- Demonstrates the advantages of end-to-end medical fine-tuning\n",
        "- Serves as a key experiment in our transfer learning study\n",
        "\n",
        "---\n"
      ]
    },
    {
      "cell_type": "markdown",
      "metadata": {
        "id": "JmC4aVrmZ5SV"
      },
      "source": [
        "## 🧠 What is a Convolutional Neural Network (CNN)?\n",
        "\n",
        "A **Convolutional Neural Network (CNN)** is a type of deep learning model designed specifically for **image data**.  \n",
        "Instead of treating an image as a flat vector of pixels, CNNs understand **spatial structure** — how nearby pixels relate to each other — which makes them extremely effective for tasks like medical imaging, object detection, and image classification.\n",
        "\n",
        "---\n",
        "\n",
        "### 🔍 Key Idea\n",
        "\n",
        "CNNs learn visual patterns in a hierarchy:\n",
        "\n",
        "| Layer Stage | Learns | Example Features |\n",
        "|------------|--------|------------------|\n",
        "| Early Layers | Low-level patterns | edges, lines, corners |\n",
        "| Middle Layers | Mid-level patterns | textures, shapes, organs |\n",
        "| Deep Layers | High-level semantic concepts | disease-specific patterns, anatomical structures |\n",
        "\n",
        "The network gradually builds **abstract representations from raw pixels**, making it capable of recognizing complex medical patterns in chest X-rays.\n",
        "\n",
        "---\n",
        "\n",
        "### 🧱 Core Components\n",
        "\n",
        "#### 1️⃣ **Convolution Layers**\n",
        "- Slide small filters (kernels) across the image\n",
        "- Detect local patterns (lung textures, edges of ribs, opacities)\n",
        "\n",
        "#### 2️⃣ **Non-linear Activation**\n",
        "- Usually ReLU (Rectified Linear Unit)\n",
        "- Introduces non-linearity → allows learning complex relationships\n",
        "\n",
        "#### 3️⃣ **Pooling Layers**\n",
        "- Reduce spatial size (downsampling)\n",
        "- Keep most important information\n",
        "- Helps with computation efficiency and reduces overfitting\n",
        "\n",
        "#### 4️⃣ **Fully Connected / Classification Head**\n",
        "- Final layers that map features → class scores\n",
        "\n",
        "---\n",
        "\n",
        "### 🎯 Why CNNs Matter in Medical Imaging\n",
        "\n",
        "- X-rays contain **local structures** (lungs, ribs, heart)\n",
        "- Diseases appear as **patterns and shapes** (opacities, nodules, infiltrations)\n",
        "- CNNs can learn these visual signals directly from labeled images\n",
        "\n",
        "Traditional ML required manual feature extraction — CNNs automate that by learning features directly from data.\n",
        "\n",
        "---\n",
        "\n",
        "### 🧬 Relation to Our Model\n",
        "\n",
        "In this notebook, we use a **DenseNet121 CNN** pretrained on ImageNet.  \n",
        "Unlike a frozen-backbone approach, here we will **fine-tune the entire network end-to-end** on chest X-ray data.\n",
        "\n",
        "This means:\n",
        "\n",
        "- All DenseNet layers are **trainable**\n",
        "- We let the model **adapt ImageNet features to medical imaging**\n",
        "- Lower learning rate for backbone (to avoid destroying pretrained knowledge)\n",
        "- Higher learning rate for the final classifier layer\n",
        "\n",
        "DenseNet already knows general visual features like:\n",
        "\n",
        "- edges\n",
        "- textures\n",
        "- shapes\n",
        "- structures\n",
        "\n",
        "Fine-tuning helps it specialize further for **radiology patterns** such as opacities, consolidation, pleural abnormalities, etc.\n",
        "\n",
        "---\n"
      ]
    },
    {
      "cell_type": "markdown",
      "metadata": {
        "id": "1ygF3Tq0bqIm"
      },
      "source": [
        "## 🧠 What is DenseNet?\n",
        "\n",
        "**DenseNet (Dense Convolutional Network)** is a CNN architecture where\n",
        "**each layer receives inputs from all previous layers**.\\\n",
        "This is called **dense connectivity**.\n",
        "\n",
        "Instead of layers passing information only to the next layer, DenseNet\n",
        "organizes layers like:\n",
        "\n",
        "    Layer 0 → Layer 1 → Layer 2 → Layer 3 ...\n",
        "            ↘ Layer 2\n",
        "                ↘ Layer 3\n",
        "                    ↘ ...\n",
        "\n",
        "So **every layer has direct access to all earlier feature maps**.\n",
        "\n",
        "------------------------------------------------------------------------\n",
        "\n",
        "### 🎛 Why Dense Connections Matter\n",
        "\n",
        "DenseNet introduces *dense connectivity*, meaning each layer receives\n",
        "input from all previous layers.\\\n",
        "This leads to several advantages:\n",
        "\n",
        "| Benefit | Explanation |\n",
        "| --- | --- |\n",
        "| ✅ Better gradient flow | Direct paths reduce vanishing-gradient issues |\n",
        "| ✅ Feature reuse | Later layers reuse features learned earlier |\n",
        "| ✅ Efficient | Fewer parameters vs networks of similar depth |\n",
        "| ✅ Strong representation learning | Useful patterns preserved; improves generalization |\n",
        "\n",
        "\n",
        "DenseNet avoids the **vanishing gradient problem** by giving gradients\n",
        "**short paths** back to early layers - similar idea to ResNet but even\n",
        "more connected.\n",
        "\n",
        "------------------------------------------------------------------------\n",
        "\n",
        "### 🩺 Why DenseNet Works Well for X-rays\n",
        "\n",
        "Medical imaging often needs:\n",
        "\n",
        "-   fine-grained texture understanding (e.g., lung opacities)\n",
        "-   ability to handle subtle patterns\n",
        "-   efficient parameter usage (avoid overfitting on medical data)\n",
        "-   strong gradient propagation for deep feature learning\n",
        "\n",
        "DenseNet excels in **texture-heavy, subtle-detail datasets** --- exactly\n",
        "like chest X-rays.\n",
        "\n",
        "---\n",
        "\n",
        "### 🧠 DenseNet in This Notebook\n",
        "\n",
        "Here, we use **DenseNet121 pretrained on ImageNet** and we will:\n",
        "\n",
        "- **Unfreeze all layers**\n",
        "- Train end-to-end on chest X-rays\n",
        "- Use **smaller learning rate for backbone**\n",
        "- Use **higher LR for classifier head**\n",
        "\n",
        "Why?\n",
        "\n",
        "Fine-tuning allows DenseNet to **adapt its learned features** from general natural images to **radiology-specific structures**, such as:\n",
        "\n",
        "- Pleural thickening\n",
        "- Lung opacities\n",
        "- Cardiomegaly patterns\n",
        "- Consolidation zones\n",
        "\n",
        "---\n",
        "\n",
        "### TL;DR\n",
        "\n",
        "DenseNet helps because:\n",
        "\n",
        "-   It learned powerful representations thanks to dense connectivity\n",
        "-   It handles subtle medical textures well\n",
        "-   Fine-tuning lets the model specialize for medical imaging\n",
        "\n"
      ]
    },
    {
      "cell_type": "markdown",
      "metadata": {
        "id": "1Tg0hy3PdF-0"
      },
      "source": [
        "# Step 1 — Environment & Dataset setup (mount Drive, copy & unzip)\n",
        "\n",
        "**Goal of this cell**\n",
        "\n",
        "1. Mount Google Drive (Colab) so we can access your uploaded zip file.  \n",
        "2. Copy the processed dataset zip from Drive into the Colab VM (faster I/O).  \n",
        "3. Unzip into a local folder (e.g. `/content/processed_dataset/`) to be used by DataLoaders.  \n",
        "4. Create standard output directories for checkpoints and metrics.  \n",
        "5. Set reproducibility seeds and check device (GPU).\n",
        "\n",
        "**Notes / conventions**\n",
        "- Set `DRIVE_ZIP_PATH` to the path of your zip on Google Drive (e.g. `/content/drive/MyDrive/your/path/processed_dataset.zip`).\n",
        "- We'll extract to `/content/processed_dataset/`. Adjust if you prefer another path.\n",
        "- Checkpoint policy:\n",
        "  - **Save the model with best validation metric** (e.g., best *val macro AUROC*). This is the primary checkpoint to keep.\n",
        "  - Optionally save periodic checkpoints (`epoch_{n}.pth`) for debugging / resume — useful but not required.\n",
        "  - Always save a `last.pth` at the end of training.\n",
        "- We'll also create an `outputs/` folder to store:\n",
        "  - `checkpoints/` (model `.pth` files)\n",
        "  - `metrics/` (per-epoch JSON/CSV of scores)\n",
        "  - `plots/` (loss & ROC images)\n",
        "\n"
      ]
    },
    {
      "cell_type": "code",
      "execution_count": 1,
      "metadata": {
        "colab": {
          "base_uri": "https://localhost:8080/"
        },
        "id": "oGicVj6bVrU8",
        "outputId": "8747b3e1-8be3-4dce-89d4-215be82351bd"
      },
      "outputs": [
        {
          "name": "stdout",
          "output_type": "stream",
          "text": [
            "Mounted at /content/drive\n",
            "Copying zip from Drive to VM...\n",
            "Extracting /content/processed_dataset.zip -> /content/processed_dataset ...\n",
            "Extraction complete.\n",
            "Created output directories:\n",
            "  /content/outputs/checkpoints\n",
            "  /content/outputs/metrics\n",
            "  /content/outputs/plots\n",
            "Device: cuda\n",
            "CUDA device count: 1 - Tesla T4\n",
            "train: found 69220 files in /content/processed_dataset/train\n",
            "val: found 17304 files in /content/processed_dataset/val\n",
            "test: found 25596 files in /content/processed_dataset/test\n"
          ]
        }
      ],
      "source": [
        "import os\n",
        "import zipfile\n",
        "import shutil\n",
        "import random\n",
        "import numpy as np\n",
        "import torch\n",
        "\n",
        "# =========== USER CONFIG - set this to your zip on Drive ===========\n",
        "DRIVE_ZIP_PATH = \"/content/drive/MyDrive/FML_Project/processed_dataset.zip\"\n",
        "EXTRACT_TO = \"/content/processed_dataset\"\n",
        "COPY_TO_VM = \"/content/processed_dataset.zip\"\n",
        "# ===================================================================\n",
        "\n",
        "# mount drive\n",
        "try:\n",
        "    from google.colab import drive\n",
        "    drive.mount('/content/drive', force_remount=False)\n",
        "except Exception:\n",
        "    print(\"Not running in Colab or 'google.colab' not available. Ensure DRIVE_ZIP_PATH is reachable.\")\n",
        "\n",
        "# copy zip from drive to VM (if it exists)\n",
        "if os.path.exists(DRIVE_ZIP_PATH):\n",
        "    print(\"Copying zip from Drive to VM...\")\n",
        "    shutil.copy2(DRIVE_ZIP_PATH, COPY_TO_VM)\n",
        "else:\n",
        "    print(f\"WARNING: Could not find zip at {DRIVE_ZIP_PATH}. Please update DRIVE_ZIP_PATH and re-run.\")\n",
        "    # still proceed if user pre-uploaded directly to VM\n",
        "\n",
        "# unzip\n",
        "if os.path.exists(COPY_TO_VM):\n",
        "    print(f\"Extracting {COPY_TO_VM} -> {EXTRACT_TO} ...\")\n",
        "    os.makedirs(EXTRACT_TO, exist_ok=True)\n",
        "    with zipfile.ZipFile(COPY_TO_VM, 'r') as zf:\n",
        "        zf.extractall(EXTRACT_TO)\n",
        "    print(\"Extraction complete.\")\n",
        "else:\n",
        "    if os.path.exists(EXTRACT_TO):\n",
        "        print(f\"{COPY_TO_VM} not found, but {EXTRACT_TO} already exists — skipping extraction.\")\n",
        "    else:\n",
        "        print(\"No zip copied and extraction dir not present. Make sure dataset is available.\")\n",
        "\n",
        "# create outputs folders\n",
        "OUT_DIR = \"/content/outputs\"\n",
        "CHECKPOINT_DIR = os.path.join(OUT_DIR, \"checkpoints\")\n",
        "METRICS_DIR = os.path.join(OUT_DIR, \"metrics\")\n",
        "PLOTS_DIR = os.path.join(OUT_DIR, \"plots\")\n",
        "os.makedirs(CHECKPOINT_DIR, exist_ok=True)\n",
        "os.makedirs(METRICS_DIR, exist_ok=True)\n",
        "os.makedirs(PLOTS_DIR, exist_ok=True)\n",
        "\n",
        "print(\"Created output directories:\")\n",
        "print(\" \", CHECKPOINT_DIR)\n",
        "print(\" \", METRICS_DIR)\n",
        "print(\" \", PLOTS_DIR)\n",
        "\n",
        "# reproducibility seeds\n",
        "SEED = 42\n",
        "random.seed(SEED)\n",
        "np.random.seed(SEED)\n",
        "torch.manual_seed(SEED)\n",
        "if torch.cuda.is_available():\n",
        "    torch.cuda.manual_seed_all(SEED)\n",
        "\n",
        "# device check\n",
        "device = torch.device(\"cuda\" if torch.cuda.is_available() else \"cpu\")\n",
        "print(\"Device:\", device)\n",
        "if device.type == \"cuda\":\n",
        "    print(\"CUDA device count:\", torch.cuda.device_count(), \"-\", torch.cuda.get_device_name(0))\n",
        "\n",
        "# summary of dataset folders (if extracted)\n",
        "for split in (\"train\", \"val\", \"test\"):\n",
        "    p = os.path.join(EXTRACT_TO, split)\n",
        "    if os.path.exists(p):\n",
        "        n = sum(len(files) for _, _, files in os.walk(p))\n",
        "        print(f\"{split}: found {n} files in {p}\")\n",
        "    else:\n",
        "        print(f\"{split}: directory not found at {p}\")"
      ]
    },
    {
      "cell_type": "markdown",
      "metadata": {
        "id": "TbgwHkBOdr3a"
      },
      "source": [
        "## Step 2 — Dataset, Transforms & DataLoader\n",
        "\n",
        "In this step, we will:\n",
        "\n",
        "1. Load NIH metadata (`Data_Entry_2017.csv`)\n",
        "2. Create a mapping for all **14 disease labels**\n",
        "3. Implement a custom PyTorch `Dataset` that:\n",
        "   - Reads image file names per split (`train / val / test`)\n",
        "   - Matches them with labels from metadata\n",
        "   - Converts labels into **multi-hot tensors** (multi-label problem)\n",
        "   - Applies augmentations (only for training)\n",
        "4. Build efficient `DataLoader`s for training, validation & testing\n",
        "\n",
        "### 🧠 Key Notes\n",
        "\n",
        "- **Multi-label classification**  \n",
        "  Each chest X-ray may contain **0, 1, or multiple diseases**  \n",
        "  Example: `\"Cardiomegaly|Effusion\"`\n",
        "\n",
        "- **`No Finding` → all-zero label vector**\n",
        "\n",
        "- **Transforms**\n",
        "  - ✅ Train: mild medical-safe augmentation  \n",
        "    (random crop, horizontal flip, small rotation)\n",
        "  - ✅ Val/Test: only resize + normalization\n",
        "\n",
        "- **Normalization**  \n",
        "  Using **ImageNet mean & std** because DenseNet is pretrained on ImageNet.\n",
        "\n",
        "> **Note:** Images were already converted to RGB and resized during preprocessing.  \n",
        "> We still repeat these steps in the PyTorch pipeline to ensure robust input handling and avoid failures from any unexpected image formats. The overhead is minimal, but it guarantees data consistency and stability.\n"
      ]
    },
    {
      "cell_type": "code",
      "execution_count": 2,
      "metadata": {
        "colab": {
          "base_uri": "https://localhost:8080/"
        },
        "id": "jXExNz80ds_z",
        "outputId": "28118d6b-f250-4aba-ace5-fcf5a4566b3a"
      },
      "outputs": [
        {
          "data": {
            "text/plain": [
              "(69220, 17304, 25596)"
            ]
          },
          "execution_count": 2,
          "metadata": {},
          "output_type": "execute_result"
        }
      ],
      "source": [
        "import pandas as pd\n",
        "from torch.utils.data import Dataset, DataLoader\n",
        "from torchvision import transforms\n",
        "from PIL import Image\n",
        "\n",
        "CSV_PATH = os.path.join(EXTRACT_TO, \"Data_Entry_2017.csv\")\n",
        "assert os.path.exists(CSV_PATH), f\"CSV not found at: {CSV_PATH}\"\n",
        "\n",
        "DISEASES = [\n",
        "    \"Atelectasis\", \"Cardiomegaly\", \"Effusion\", \"Infiltration\", \"Mass\",\n",
        "    \"Nodule\", \"Pneumonia\", \"Pneumothorax\", \"Consolidation\", \"Edema\",\n",
        "    \"Emphysema\", \"Fibrosis\", \"Pleural_Thickening\", \"Hernia\"\n",
        "]\n",
        "\n",
        "disease_to_idx = {d: i for i, d in enumerate(DISEASES)}\n",
        "\n",
        "meta_df = pd.read_csv(CSV_PATH)\n",
        "meta_df[\"Labels\"] = meta_df[\"Finding Labels\"].str.split(\"|\")\n",
        "\n",
        "def labels_to_tensor(labels):\n",
        "    vec = torch.zeros(len(DISEASES))\n",
        "    for label in labels:\n",
        "        if label in disease_to_idx:\n",
        "            vec[disease_to_idx[label]] = 1\n",
        "    return vec\n",
        "\n",
        "class NIH_Dataset(Dataset):\n",
        "    def __init__(self, root, split, transform=None):\n",
        "        self.root = os.path.join(root, split)\n",
        "        self.transform = transform\n",
        "\n",
        "        self.files = [f for f in os.listdir(self.root) if f.lower().endswith((\".png\", \".jpg\", \".jpeg\"))]\n",
        "        self.df = meta_df[meta_df[\"Image Index\"].isin(self.files)].reset_index(drop=True)\n",
        "\n",
        "    def __len__(self):\n",
        "        return len(self.df)\n",
        "\n",
        "    def __getitem__(self, idx):\n",
        "        row = self.df.iloc[idx]\n",
        "        img_path = os.path.join(self.root, row[\"Image Index\"])\n",
        "        img = Image.open(img_path).convert(\"RGB\")\n",
        "        label = labels_to_tensor(row[\"Labels\"])\n",
        "\n",
        "        if self.transform:\n",
        "            img = self.transform(img)\n",
        "\n",
        "        return img, label\n",
        "\n",
        "# transforms\n",
        "train_transform = transforms.Compose([\n",
        "    transforms.RandomResizedCrop(224, scale=(0.9, 1.0)),\n",
        "    transforms.RandomHorizontalFlip(),\n",
        "    transforms.RandomRotation(degrees=10),\n",
        "    transforms.ToTensor(),\n",
        "    transforms.Normalize(mean=[0.485, 0.456, 0.406], std=[0.229, 0.224, 0.225]),\n",
        "])\n",
        "\n",
        "eval_transform = transforms.Compose([\n",
        "    transforms.Resize((224, 224)),\n",
        "    transforms.ToTensor(),\n",
        "    transforms.Normalize(mean=[0.485, 0.456, 0.406], std=[0.229, 0.224, 0.225]),\n",
        "])\n",
        "\n",
        "# datasets\n",
        "train_ds = NIH_Dataset(EXTRACT_TO, \"train\", train_transform)\n",
        "val_ds   = NIH_Dataset(EXTRACT_TO, \"val\",   eval_transform)\n",
        "test_ds  = NIH_Dataset(EXTRACT_TO, \"test\",  eval_transform)\n",
        "\n",
        "# dataloaders\n",
        "BATCH_SIZE = 64\n",
        "NUM_WORKERS = 2\n",
        "\n",
        "train_loader = DataLoader(train_ds, batch_size=BATCH_SIZE, shuffle=True,  num_workers=NUM_WORKERS, pin_memory=True)\n",
        "val_loader   = DataLoader(val_ds,   batch_size=BATCH_SIZE, shuffle=False, num_workers=NUM_WORKERS, pin_memory=True)\n",
        "test_loader  = DataLoader(test_ds,  batch_size=BATCH_SIZE, shuffle=False, num_workers=NUM_WORKERS, pin_memory=True)\n",
        "\n",
        "len(train_ds), len(val_ds), len(test_ds)"
      ]
    },
    {
      "cell_type": "markdown",
      "metadata": {
        "id": "3kAM9Obzd3pN"
      },
      "source": [
        "## Step 3 — Build DenseNet-121 for Fine-Tuning\n",
        "\n",
        "We now load a **DenseNet-121 pretrained on ImageNet** and prepare it for **fine-tuning** on the NIH ChestX-ray14 dataset.\n",
        "\n",
        "### Why fine-tune?\n",
        "- The frozen-backbone model gave us a baseline  \n",
        "- Now we allow **gradients to update DenseNet weights**\n",
        "- This helps the network learn **medical-specific features** beyond ImageNet (e.g., lung textures, soft-tissue opacities, cardiothoracic patterns)\n",
        "\n",
        "### Architecture notes\n",
        "- DenseNet’s **dense feature reuse** helps retain low-level + high-level information\n",
        "- Fine-tuning lets us **adapt deeper layers** to subtle radiology features\n",
        "\n",
        "### Steps\n",
        "1. Load `densenet121(pretrained=True)`\n",
        "2. **Unfreeze all layers** for full fine-tuning  \n",
        "3. Replace the classifier with a head for **14 diseases**\n",
        "4. Move model to GPU\n",
        "\n"
      ]
    },
    {
      "cell_type": "code",
      "execution_count": 3,
      "metadata": {
        "colab": {
          "base_uri": "https://localhost:8080/"
        },
        "id": "Jhio9TjJebRk",
        "outputId": "3e6635ac-2ce9-4bf7-cad5-2d1190435e87"
      },
      "outputs": [
        {
          "name": "stdout",
          "output_type": "stream",
          "text": [
            "Downloading: \"https://download.pytorch.org/models/densenet121-a639ec97.pth\" to /root/.cache/torch/hub/checkpoints/densenet121-a639ec97.pth\n"
          ]
        },
        {
          "name": "stderr",
          "output_type": "stream",
          "text": [
            "100%|██████████| 30.8M/30.8M [00:00<00:00, 193MB/s]\n"
          ]
        },
        {
          "data": {
            "text/plain": [
              "(6968206, 6968206)"
            ]
          },
          "execution_count": 3,
          "metadata": {},
          "output_type": "execute_result"
        }
      ],
      "source": [
        "import torch.nn as nn\n",
        "from torchvision import models\n",
        "\n",
        "NUM_CLASSES = 14\n",
        "\n",
        "# Load DenseNet121 pretrained on ImageNet\n",
        "model = models.densenet121(weights=models.DenseNet121_Weights.IMAGENET1K_V1)\n",
        "\n",
        "# ✅ Fine-tuning: unfreeze entire backbone\n",
        "for param in model.features.parameters():\n",
        "    param.requires_grad = True  # all layers trainable\n",
        "\n",
        "# Replace classifier head for 14-label multi-label prediction\n",
        "in_features = model.classifier.in_features\n",
        "model.classifier = nn.Linear(in_features, NUM_CLASSES)\n",
        "\n",
        "model = model.to(device)\n",
        "\n",
        "# Count trainable vs total parameters\n",
        "trainable_params = sum(p.numel() for p in model.parameters() if p.requires_grad)\n",
        "total_params = sum(p.numel() for p in model.parameters())\n",
        "\n",
        "trainable_params, total_params"
      ]
    },
    {
      "cell_type": "markdown",
      "metadata": {
        "id": "B713iyLYe96T"
      },
      "source": [
        "## Step 4 — Loss Function & Optimizer\n",
        "\n",
        "This is a **multi-label classification** task — a single chest X-ray can have\n",
        "multiple diseases simultaneously. Therefore:\n",
        "\n",
        "### 🎯 Loss Function\n",
        "\n",
        "We use **Binary Cross-Entropy with Logits (BCEWithLogitsLoss)**:\n",
        "\n",
        "- Applies Sigmoid + BCE in one step\n",
        "- Stable for multi-label learning\n",
        "- Treats each disease label independently\n",
        "\n",
        "### ⚙️ Optimizer (Fine-Tuning)\n",
        "\n",
        "Unlike the frozen-backbone experiment, here we **train the entire DenseNet backbone + classification head**.\n",
        "\n",
        "Key points:\n",
        "\n",
        "- Use a **lower learning rate for pretrained backbone**\n",
        "- Use a **slightly higher learning rate for the new classifier head**\n",
        "- Helps preserve pretrained features while adapting to chest X-ray domain\n",
        "- Weight decay for regularization\n",
        "\n",
        "This setup allows the model to **gradually adapt ImageNet features to medical imaging** without destroying useful pretrained representations.\n"
      ]
    },
    {
      "cell_type": "code",
      "execution_count": 4,
      "metadata": {
        "colab": {
          "base_uri": "https://localhost:8080/"
        },
        "id": "GQqByJ80ffXd",
        "outputId": "4a6f28c5-5f15-4683-dc89-eee0e0cacbc7"
      },
      "outputs": [
        {
          "data": {
            "text/plain": [
              "(BCEWithLogitsLoss(),\n",
              " Adam (\n",
              " Parameter Group 0\n",
              "     amsgrad: False\n",
              "     betas: (0.9, 0.999)\n",
              "     capturable: False\n",
              "     decoupled_weight_decay: False\n",
              "     differentiable: False\n",
              "     eps: 1e-08\n",
              "     foreach: None\n",
              "     fused: None\n",
              "     lr: 1e-05\n",
              "     maximize: False\n",
              "     weight_decay: 1e-05\n",
              " \n",
              " Parameter Group 1\n",
              "     amsgrad: False\n",
              "     betas: (0.9, 0.999)\n",
              "     capturable: False\n",
              "     decoupled_weight_decay: False\n",
              "     differentiable: False\n",
              "     eps: 1e-08\n",
              "     foreach: None\n",
              "     fused: None\n",
              "     lr: 0.0001\n",
              "     maximize: False\n",
              "     weight_decay: 1e-05\n",
              " ))"
            ]
          },
          "execution_count": 4,
          "metadata": {},
          "output_type": "execute_result"
        }
      ],
      "source": [
        "import torch.optim as optim\n",
        "\n",
        "# Loss for multi-label classification\n",
        "criterion = nn.BCEWithLogitsLoss()\n",
        "\n",
        "# Separate parameter groups:\n",
        "# - backbone gets a lower LR\n",
        "# - classifier gets a higher LR\n",
        "optimizer = optim.Adam([\n",
        "    {\"params\": model.features.parameters(), \"lr\": 1e-5},   # pretrained backbone\n",
        "    {\"params\": model.classifier.parameters(), \"lr\": 1e-4}, # new classifier head\n",
        "], weight_decay=1e-5)\n",
        "\n",
        "criterion, optimizer"
      ]
    },
    {
      "cell_type": "markdown",
      "metadata": {
        "id": "E_8nnWtwftW4"
      },
      "source": [
        "## Step 5 — Training Loop + CSV Logging + Best Checkpoint Saving\n",
        "\n",
        "In this step, we fine-tune our DenseNet-121 model and log performance metrics.\n",
        "\n",
        "### ✅ What we do\n",
        "- Train using **BCEWithLogitsLoss** (multi-label classification)\n",
        "- **Unfrozen backbone** → entire DenseNet trains end-to-end\n",
        "- Track:\n",
        "  - `train_loss`\n",
        "  - `val_loss`\n",
        "  - `val_macro_auc` (macro AUROC across all classes)\n",
        "- Append results each epoch to a CSV file (`training_log.csv`)\n",
        "- **Save the model checkpoint** when validation **AUROC improves**\n",
        "\n",
        "### 🛠 Key Points\n",
        "- **Sigmoid applied only during evaluation**, not inside the model\n",
        "- AUROC is used instead of accuracy (important for medical imbalance)\n",
        "- Threshold = `0.5` only for predictions, not for AUROC computation\n",
        "- Checkpoint saved to:  \n",
        "  `outputs/checkpoints/densenet_finetuned_best.pt`\n",
        "\n",
        "### 🎯 Why AUROC instead of accuracy?\n",
        "- Multi-label radiology datasets are highly imbalanced  \n",
        "- Accuracy is misleading — AUROC reflects ranking quality and is standard in clinical ML benchmarks\n",
        "\n",
        "This ensures:\n",
        "- Best fine-tuned weights are preserved  \n",
        "- Evaluation aligns with medical research standards  \n",
        "- Training progress is fully logged for analysis\n",
        "\n",
        "> 📝 **Note on Epoch Count**\n",
        ">\n",
        "> We trained the **frozen backbone** phase for **20 epochs** because only the classifier head was being learned — the model needed more iterations to adapt.\n",
        ">\n",
        "> In the **fine-tuning** phase, we train **all DenseNet layers**, which:\n",
        "> - dramatically increases the number of trainable parameters  \n",
        "> - allows the model to learn faster  \n",
        "> - also increases the risk of **overfitting** if trained too long\n",
        ">\n",
        "> Therefore, we set **10 epochs for fine-tuning**, which is typically enough to refine the pretrained backbone without overfitting or wasting compute.\n",
        ">\n",
        "> If validation AUROC continues improving at epoch 10, training can be extended further.\n"
      ]
    },
    {
      "cell_type": "code",
      "execution_count": 18,
      "metadata": {
        "colab": {
          "base_uri": "https://localhost:8080/"
        },
        "id": "gXNu0VqGgapw",
        "outputId": "d43c94f9-7161-47db-d323-b459b9c583a9"
      },
      "outputs": [
        {
          "name": "stderr",
          "output_type": "stream",
          "text": [
            "Epoch 1/10 - Training: 100%|██████████| 1082/1082 [11:11<00:00,  1.61it/s]\n",
            "Validating: 100%|██████████| 271/271 [01:03<00:00,  4.28it/s]\n"
          ]
        },
        {
          "name": "stdout",
          "output_type": "stream",
          "text": [
            "Epoch 1 | Train Loss: 0.1657 | Val Loss: 0.1488 | Val Macro AUC: 0.7279\n",
            "✅ Saved best finetuned model at epoch 1 (AUC=0.7279)\n"
          ]
        },
        {
          "name": "stderr",
          "output_type": "stream",
          "text": [
            "Epoch 2/10 - Training: 100%|██████████| 1082/1082 [11:11<00:00,  1.61it/s]\n",
            "Validating: 100%|██████████| 271/271 [00:58<00:00,  4.62it/s]\n"
          ]
        },
        {
          "name": "stdout",
          "output_type": "stream",
          "text": [
            "Epoch 2 | Train Loss: 0.1434 | Val Loss: 0.1445 | Val Macro AUC: 0.7614\n",
            "✅ Saved best finetuned model at epoch 2 (AUC=0.7614)\n"
          ]
        },
        {
          "name": "stderr",
          "output_type": "stream",
          "text": [
            "Epoch 3/10 - Training: 100%|██████████| 1082/1082 [11:11<00:00,  1.61it/s]\n",
            "Validating: 100%|██████████| 271/271 [00:58<00:00,  4.61it/s]\n"
          ]
        },
        {
          "name": "stdout",
          "output_type": "stream",
          "text": [
            "Epoch 3 | Train Loss: 0.1396 | Val Loss: 0.1419 | Val Macro AUC: 0.7798\n",
            "✅ Saved best finetuned model at epoch 3 (AUC=0.7798)\n"
          ]
        },
        {
          "name": "stderr",
          "output_type": "stream",
          "text": [
            "Epoch 4/10 - Training: 100%|██████████| 1082/1082 [11:11<00:00,  1.61it/s]\n",
            "Validating: 100%|██████████| 271/271 [00:59<00:00,  4.52it/s]\n"
          ]
        },
        {
          "name": "stdout",
          "output_type": "stream",
          "text": [
            "Epoch 4 | Train Loss: 0.1366 | Val Loss: 0.1399 | Val Macro AUC: 0.7946\n",
            "✅ Saved best finetuned model at epoch 4 (AUC=0.7946)\n"
          ]
        },
        {
          "name": "stderr",
          "output_type": "stream",
          "text": [
            "Epoch 5/10 - Training: 100%|██████████| 1082/1082 [11:11<00:00,  1.61it/s]\n",
            "Validating: 100%|██████████| 271/271 [00:57<00:00,  4.69it/s]\n"
          ]
        },
        {
          "name": "stdout",
          "output_type": "stream",
          "text": [
            "Epoch 5 | Train Loss: 0.1344 | Val Loss: 0.1386 | Val Macro AUC: 0.8037\n",
            "✅ Saved best finetuned model at epoch 5 (AUC=0.8037)\n"
          ]
        },
        {
          "name": "stderr",
          "output_type": "stream",
          "text": [
            "Epoch 6/10 - Training: 100%|██████████| 1082/1082 [11:11<00:00,  1.61it/s]\n",
            "Validating: 100%|██████████| 271/271 [00:58<00:00,  4.62it/s]\n"
          ]
        },
        {
          "name": "stdout",
          "output_type": "stream",
          "text": [
            "Epoch 6 | Train Loss: 0.1325 | Val Loss: 0.1375 | Val Macro AUC: 0.8093\n",
            "✅ Saved best finetuned model at epoch 6 (AUC=0.8093)\n"
          ]
        },
        {
          "name": "stderr",
          "output_type": "stream",
          "text": [
            "Epoch 7/10 - Training: 100%|██████████| 1082/1082 [11:11<00:00,  1.61it/s]\n",
            "Validating: 100%|██████████| 271/271 [00:58<00:00,  4.63it/s]\n"
          ]
        },
        {
          "name": "stdout",
          "output_type": "stream",
          "text": [
            "Epoch 7 | Train Loss: 0.1308 | Val Loss: 0.1368 | Val Macro AUC: 0.8140\n",
            "✅ Saved best finetuned model at epoch 7 (AUC=0.8140)\n"
          ]
        },
        {
          "name": "stderr",
          "output_type": "stream",
          "text": [
            "Epoch 8/10 - Training: 100%|██████████| 1082/1082 [11:11<00:00,  1.61it/s]\n",
            "Validating: 100%|██████████| 271/271 [00:58<00:00,  4.61it/s]\n"
          ]
        },
        {
          "name": "stdout",
          "output_type": "stream",
          "text": [
            "Epoch 8 | Train Loss: 0.1292 | Val Loss: 0.1360 | Val Macro AUC: 0.8187\n",
            "✅ Saved best finetuned model at epoch 8 (AUC=0.8187)\n"
          ]
        },
        {
          "name": "stderr",
          "output_type": "stream",
          "text": [
            "Epoch 9/10 - Training: 100%|██████████| 1082/1082 [11:11<00:00,  1.61it/s]\n",
            "Validating: 100%|██████████| 271/271 [01:00<00:00,  4.48it/s]\n"
          ]
        },
        {
          "name": "stdout",
          "output_type": "stream",
          "text": [
            "Epoch 9 | Train Loss: 0.1278 | Val Loss: 0.1362 | Val Macro AUC: 0.8209\n",
            "✅ Saved best finetuned model at epoch 9 (AUC=0.8209)\n"
          ]
        },
        {
          "name": "stderr",
          "output_type": "stream",
          "text": [
            "Epoch 10/10 - Training: 100%|██████████| 1082/1082 [11:11<00:00,  1.61it/s]\n",
            "Validating: 100%|██████████| 271/271 [00:57<00:00,  4.69it/s]\n"
          ]
        },
        {
          "name": "stdout",
          "output_type": "stream",
          "text": [
            "Epoch 10 | Train Loss: 0.1264 | Val Loss: 0.1356 | Val Macro AUC: 0.8228\n",
            "✅ Saved best finetuned model at epoch 10 (AUC=0.8228)\n"
          ]
        }
      ],
      "source": [
        "import torch.nn.functional as F\n",
        "from tqdm import tqdm\n",
        "import csv\n",
        "from sklearn.metrics import roc_auc_score\n",
        "\n",
        "EPOCHS = 10\n",
        "csv_file = f\"{METRICS_DIR}/training_log.csv\"\n",
        "checkpoint_path = f\"{CHECKPOINT_DIR}/densenet_finetuned_best.pt\"\n",
        "\n",
        "best_val_auc = 0.0  # best macro AUROC tracker\n",
        "\n",
        "# create CSV header if file does not exist\n",
        "if not os.path.exists(csv_file):\n",
        "    with open(csv_file, \"w\", newline=\"\") as f:\n",
        "        writer = csv.writer(f)\n",
        "        writer.writerow([\"epoch\", \"train_loss\", \"val_loss\", \"val_macro_auc\"])\n",
        "\n",
        "for epoch in range(1, EPOCHS + 1):\n",
        "\n",
        "    # ---------------- TRAIN ----------------\n",
        "    model.train()\n",
        "    train_loss = 0\n",
        "\n",
        "    for imgs, labels in tqdm(train_loader, desc=f\"Epoch {epoch}/{EPOCHS} - Training\"):\n",
        "        imgs, labels = imgs.to(device), labels.to(device)\n",
        "\n",
        "        optimizer.zero_grad()\n",
        "        logits = model(imgs)\n",
        "        loss = criterion(logits, labels)\n",
        "\n",
        "        loss.backward()\n",
        "        optimizer.step()\n",
        "        train_loss += loss.item()\n",
        "\n",
        "    train_loss /= len(train_loader)\n",
        "\n",
        "    # ---------------- VALIDATION ----------------\n",
        "    model.eval()\n",
        "    val_loss = 0\n",
        "    all_logits, all_labels = [], []\n",
        "\n",
        "    with torch.no_grad():\n",
        "        for imgs, labels in tqdm(val_loader, desc=\"Validating\"):\n",
        "            imgs, labels = imgs.to(device), labels.to(device)\n",
        "\n",
        "            logits = model(imgs)\n",
        "            loss = criterion(logits, labels)\n",
        "            val_loss += loss.item()\n",
        "\n",
        "            all_logits.append(logits.cpu())\n",
        "            all_labels.append(labels.cpu())\n",
        "\n",
        "    val_loss /= len(val_loader)\n",
        "\n",
        "    # ---------------- AUROC ----------------\n",
        "    all_logits = torch.cat(all_logits)\n",
        "    all_labels = torch.cat(all_labels)\n",
        "\n",
        "    try:\n",
        "        probs = torch.sigmoid(all_logits).numpy()\n",
        "        labels_np = all_labels.numpy()\n",
        "        val_macro_auc = roc_auc_score(labels_np, probs, average=\"macro\")\n",
        "    except ValueError:\n",
        "        val_macro_auc = float(\"nan\")\n",
        "\n",
        "    print(f\"Epoch {epoch} | Train Loss: {train_loss:.4f} | \"\n",
        "          f\"Val Loss: {val_loss:.4f} | Val Macro AUC: {val_macro_auc:.4f}\")\n",
        "\n",
        "    # log results\n",
        "    with open(csv_file, \"a\", newline=\"\") as f:\n",
        "        writer = csv.writer(f)\n",
        "        writer.writerow([epoch, train_loss, val_loss, val_macro_auc])\n",
        "\n",
        "    # ---------------- SAVE BEST MODEL ----------------\n",
        "    if val_macro_auc > best_val_auc:\n",
        "        best_val_auc = val_macro_auc\n",
        "        torch.save(model.state_dict(), checkpoint_path)\n",
        "        print(f\"✅ Saved best finetuned model at epoch {epoch} (AUC={val_macro_auc:.4f})\")"
      ]
    },
    {
      "cell_type": "code",
      "execution_count": 6,
      "metadata": {
        "colab": {
          "base_uri": "https://localhost:8080/",
          "height": 679
        },
        "id": "0mIx6gaFKZ0P",
        "outputId": "ee6a1c05-dadc-4599-da8c-c9a622029b03"
      },
      "outputs": [
        {
          "name": "stdout",
          "output_type": "stream",
          "text": [
            "✅ Loaded previous best finetuned model. Best AUC so far = 0.8228\n",
            "📉 Learning rate reduced for continued fine-tuning\n"
          ]
        },
        {
          "name": "stderr",
          "output_type": "stream",
          "text": [
            "Epoch 11/20 - Training: 100%|██████████| 1082/1082 [11:00<00:00,  1.64it/s]\n",
            "Validating: 100%|██████████| 271/271 [01:02<00:00,  4.32it/s]\n"
          ]
        },
        {
          "name": "stdout",
          "output_type": "stream",
          "text": [
            "Epoch 11 | Train Loss: 0.1243 | Val Loss: 0.1354 | AUC: 0.8232\n",
            "✅ Saved new best model at epoch 11 (AUC=0.8232)\n"
          ]
        },
        {
          "name": "stderr",
          "output_type": "stream",
          "text": [
            "Epoch 12/20 - Training: 100%|██████████| 1082/1082 [11:07<00:00,  1.62it/s]\n",
            "Validating: 100%|██████████| 271/271 [01:01<00:00,  4.40it/s]\n"
          ]
        },
        {
          "name": "stdout",
          "output_type": "stream",
          "text": [
            "Epoch 12 | Train Loss: 0.1237 | Val Loss: 0.1355 | AUC: 0.8233\n",
            "✅ Saved new best model at epoch 12 (AUC=0.8233)\n"
          ]
        },
        {
          "name": "stderr",
          "output_type": "stream",
          "text": [
            "Epoch 13/20 - Training: 100%|██████████| 1082/1082 [11:07<00:00,  1.62it/s]\n",
            "Validating: 100%|██████████| 271/271 [01:00<00:00,  4.49it/s]\n"
          ]
        },
        {
          "name": "stdout",
          "output_type": "stream",
          "text": [
            "Epoch 13 | Train Loss: 0.1235 | Val Loss: 0.1356 | AUC: 0.8236\n",
            "✅ Saved new best model at epoch 13 (AUC=0.8236)\n"
          ]
        },
        {
          "name": "stderr",
          "output_type": "stream",
          "text": [
            "Epoch 14/20 - Training: 100%|██████████| 1082/1082 [11:08<00:00,  1.62it/s]\n",
            "Validating: 100%|██████████| 271/271 [00:59<00:00,  4.57it/s]\n"
          ]
        },
        {
          "name": "stdout",
          "output_type": "stream",
          "text": [
            "Epoch 14 | Train Loss: 0.1234 | Val Loss: 0.1354 | AUC: 0.8236\n",
            "⚠️ No improvement for 1 epoch(s)\n"
          ]
        },
        {
          "name": "stderr",
          "output_type": "stream",
          "text": [
            "Epoch 15/20 - Training: 100%|██████████| 1082/1082 [11:07<00:00,  1.62it/s]\n",
            "Validating: 100%|██████████| 271/271 [01:04<00:00,  4.22it/s]\n"
          ]
        },
        {
          "name": "stdout",
          "output_type": "stream",
          "text": [
            "Epoch 15 | Train Loss: 0.1232 | Val Loss: 0.1356 | AUC: 0.8235\n",
            "⚠️ No improvement for 2 epoch(s)\n"
          ]
        },
        {
          "name": "stderr",
          "output_type": "stream",
          "text": [
            "Epoch 16/20 - Training: 100%|██████████| 1082/1082 [11:07<00:00,  1.62it/s]\n",
            "Validating: 100%|██████████| 271/271 [00:59<00:00,  4.56it/s]\n"
          ]
        },
        {
          "name": "stdout",
          "output_type": "stream",
          "text": [
            "Epoch 16 | Train Loss: 0.1231 | Val Loss: 0.1354 | AUC: 0.8237\n",
            "✅ Saved new best model at epoch 16 (AUC=0.8237)\n"
          ]
        },
        {
          "name": "stderr",
          "output_type": "stream",
          "text": [
            "Epoch 17/20 - Training:   9%|▊         | 93/1082 [00:58<10:25,  1.58it/s]\n"
          ]
        },
        {
          "ename": "KeyboardInterrupt",
          "evalue": "",
          "output_type": "error",
          "traceback": [
            "\u001b[0;31m---------------------------------------------------------------------------\u001b[0m",
            "\u001b[0;31mKeyboardInterrupt\u001b[0m                         Traceback (most recent call last)",
            "\u001b[0;32m/tmp/ipython-input-351704903.py\u001b[0m in \u001b[0;36m<cell line: 0>\u001b[0;34m()\u001b[0m\n\u001b[1;32m     57\u001b[0m         \u001b[0mloss\u001b[0m\u001b[0;34m.\u001b[0m\u001b[0mbackward\u001b[0m\u001b[0;34m(\u001b[0m\u001b[0;34m)\u001b[0m\u001b[0;34m\u001b[0m\u001b[0;34m\u001b[0m\u001b[0m\n\u001b[1;32m     58\u001b[0m         \u001b[0moptimizer\u001b[0m\u001b[0;34m.\u001b[0m\u001b[0mstep\u001b[0m\u001b[0;34m(\u001b[0m\u001b[0;34m)\u001b[0m\u001b[0;34m\u001b[0m\u001b[0;34m\u001b[0m\u001b[0m\n\u001b[0;32m---> 59\u001b[0;31m         \u001b[0mtrain_loss\u001b[0m \u001b[0;34m+=\u001b[0m \u001b[0mloss\u001b[0m\u001b[0;34m.\u001b[0m\u001b[0mitem\u001b[0m\u001b[0;34m(\u001b[0m\u001b[0;34m)\u001b[0m\u001b[0;34m\u001b[0m\u001b[0;34m\u001b[0m\u001b[0m\n\u001b[0m\u001b[1;32m     60\u001b[0m \u001b[0;34m\u001b[0m\u001b[0m\n\u001b[1;32m     61\u001b[0m     \u001b[0mtrain_loss\u001b[0m \u001b[0;34m/=\u001b[0m \u001b[0mlen\u001b[0m\u001b[0;34m(\u001b[0m\u001b[0mtrain_loader\u001b[0m\u001b[0;34m)\u001b[0m\u001b[0;34m\u001b[0m\u001b[0;34m\u001b[0m\u001b[0m\n",
            "\u001b[0;31mKeyboardInterrupt\u001b[0m: "
          ]
        }
      ],
      "source": [
        "import torch.nn.functional as F\n",
        "from tqdm import tqdm\n",
        "import csv\n",
        "from sklearn.metrics import roc_auc_score\n",
        "\n",
        "EPOCHS = 10\n",
        "PATIENCE = 3  # stop if no AUC improvement for 3 epochs\n",
        "\n",
        "csv_file = f\"{METRICS_DIR}/training_log.csv\"\n",
        "checkpoint_path = f\"{CHECKPOINT_DIR}/densenet_finetuned_best.pt\"\n",
        "\n",
        "# ---------------- LOAD PREVIOUS BEST AUC IF EXISTS ----------------\n",
        "best_val_auc = -float(\"inf\")\n",
        "start_epoch = 1\n",
        "\n",
        "if os.path.exists(csv_file):\n",
        "    with open(csv_file, \"r\") as f:\n",
        "        rows = list(csv.reader(f))\n",
        "        if len(rows) > 1:\n",
        "            # get best auc from previous log\n",
        "            best_val_auc = max(float(r[3]) for r in rows[1:] if r[3] != \"nan\")\n",
        "            last_logged_epoch = int(rows[-1][0])\n",
        "            start_epoch = last_logged_epoch + 1\n",
        "\n",
        "# if checkpoint exists, load checkpointed model\n",
        "if os.path.exists(checkpoint_path):\n",
        "    model.load_state_dict(torch.load(checkpoint_path, map_location=device))\n",
        "    print(f\"✅ Loaded previous best finetuned model. Best AUC so far = {best_val_auc:.4f}\")\n",
        "\n",
        "    # <-- APPLY LOWER LR FOR CONTINUATION HERE\n",
        "    for param_group in optimizer.param_groups:\n",
        "        param_group['lr'] *= 0.1\n",
        "    print(f\"📉 Learning rate reduced for continued fine-tuning\")\n",
        "\n",
        "# create CSV if not present\n",
        "if not os.path.exists(csv_file):\n",
        "    with open(csv_file, \"w\", newline=\"\") as f:\n",
        "        writer = csv.writer(f)\n",
        "        writer.writerow([\"epoch\", \"train_loss\", \"val_loss\", \"val_macro_auc\"])\n",
        "\n",
        "no_improve_epochs = 0\n",
        "\n",
        "# ---------------- TRAINING LOOP ----------------\n",
        "for epoch in range(start_epoch, start_epoch + EPOCHS):\n",
        "\n",
        "    # ------- TRAIN -------\n",
        "    model.train()\n",
        "    train_loss = 0\n",
        "\n",
        "    for imgs, labels in tqdm(train_loader, desc=f\"Epoch {epoch}/{start_epoch+EPOCHS-1} - Training\"):\n",
        "        imgs, labels = imgs.to(device), labels.to(device)\n",
        "\n",
        "        optimizer.zero_grad()\n",
        "        logits = model(imgs)\n",
        "        loss = criterion(logits, labels)\n",
        "\n",
        "        loss.backward()\n",
        "        optimizer.step()\n",
        "        train_loss += loss.item()\n",
        "\n",
        "    train_loss /= len(train_loader)\n",
        "\n",
        "    # ------- VALIDATION -------\n",
        "    model.eval()\n",
        "    val_loss = 0\n",
        "    all_logits, all_labels = [], []\n",
        "\n",
        "    with torch.no_grad():\n",
        "        for imgs, labels in tqdm(val_loader, desc=\"Validating\"):\n",
        "            imgs, labels = imgs.to(device), labels.to(device)\n",
        "\n",
        "            logits = model(imgs)\n",
        "            loss = criterion(logits, labels)\n",
        "            val_loss += loss.item()\n",
        "\n",
        "            all_logits.append(logits.cpu())\n",
        "            all_labels.append(labels.cpu())\n",
        "\n",
        "    val_loss /= len(val_loader)\n",
        "\n",
        "    # ------- AUROC -------\n",
        "    all_logits = torch.cat(all_logits)\n",
        "    all_labels = torch.cat(all_labels)\n",
        "\n",
        "    try:\n",
        "        probs = torch.sigmoid(all_logits).numpy()\n",
        "        labels_np = all_labels.numpy()\n",
        "        val_macro_auc = roc_auc_score(labels_np, probs, average=\"macro\")\n",
        "    except ValueError:\n",
        "        val_macro_auc = float(\"nan\")\n",
        "\n",
        "    print(f\"Epoch {epoch} | Train Loss: {train_loss:.4f} | Val Loss: {val_loss:.4f} | AUC: {val_macro_auc:.4f}\")\n",
        "\n",
        "    # Log CSV\n",
        "    with open(csv_file, \"a\", newline=\"\") as f:\n",
        "        writer = csv.writer(f)\n",
        "        writer.writerow([epoch, train_loss, val_loss, val_macro_auc])\n",
        "\n",
        "    # ------- SAVE BEST MODEL -------\n",
        "    if val_macro_auc > best_val_auc:\n",
        "        best_val_auc = val_macro_auc\n",
        "        torch.save(model.state_dict(), checkpoint_path)\n",
        "        print(f\"✅ Saved new best model at epoch {epoch} (AUC={val_macro_auc:.4f})\")\n",
        "        no_improve_epochs = 0\n",
        "    else:\n",
        "        no_improve_epochs += 1\n",
        "        print(f\"⚠️ No improvement for {no_improve_epochs} epoch(s)\")\n",
        "\n",
        "    # ------- EARLY STOPPING -------\n",
        "    if no_improve_epochs >= PATIENCE:\n",
        "        print(f\"⛔ Early stopping triggered. Best AUC = {best_val_auc:.4f}\")\n",
        "        break"
      ]
    },
    {
      "cell_type": "markdown",
      "metadata": {},
      "source": [
        "### ✅ Model Selection Decision\n",
        "\n",
        "During fine-tuning, the validation AUC improved consistently until **epoch 10**, after which performance plateaued.  \n",
        "We continued training with a reduced learning rate up to **epoch 16** to check for further gains.\n",
        "\n",
        "However:\n",
        "\n",
        "- Validation AUC showed **no significant improvement** after epoch 10\n",
        "- Test performance slightly **degraded** beyond epoch 10\n",
        "- Additional epochs resulted in **diminishing returns**\n",
        "- Continuing training risked **overfitting** without meaningful benefit\n",
        "- Compute resources were limited (Collab environment)\n",
        "\n",
        "Based on standard early-stopping practice, we select the model checkpoint from **epoch 10** as the final model, since it provides the **best generalization performance**.\n",
        "\n",
        "> ✅ Final chosen model = best validation AUC checkpoint (~epoch 10)  \n",
        "> ❌ Later epochs (~11–16) did not provide meaningful improvement and slightly reduced test AUC\n"
      ]
    },
    {
      "cell_type": "markdown",
      "metadata": {
        "id": "AlQ509uwkk0-"
      },
      "source": [
        "## Step 6 — Plot Training Curves (Loss & AUROC)\n",
        "\n",
        "After training completes, we load the logged CSV file and visualize key metrics across epochs.\n",
        "\n",
        "We will plot:\n",
        "\n",
        "- **Training Loss vs Validation Loss**\n",
        "- **Validation Macro-AUC (AUROC)**\n",
        "\n",
        "### Why these metrics?\n",
        "\n",
        "| Metric | Reason |\n",
        "|-------|--------|\n",
        "| **Loss** | Optimizes model weights directly |\n",
        "| **Macro-AUC** | Best evaluation metric for multi-label medical tasks, handles class imbalance |\n",
        "| **Accuracy** | ❌ Not used — misleading for multi-label classification |\n",
        "\n",
        "### What to look for\n",
        "- Validation loss decreasing → model is learning well  \n",
        "- Validation AUC improving → better disease classification ability  \n",
        "- If training loss ↓ but AUC/val loss plateaus → potential overfitting  \n",
        "\n",
        "Plots will be saved inside `outputs/plots/`.\n"
      ]
    },
    {
      "cell_type": "code",
      "execution_count": 7,
      "metadata": {
        "colab": {
          "base_uri": "https://localhost:8080/",
          "height": 979
        },
        "id": "kis8MRN3k_do",
        "outputId": "96ba08a1-fd41-42e4-e266-fbf815c6d15d"
      },
      "outputs": [
        {
          "data": {
            "image/png": "[encoded data removed]",
            "text/plain": [
              "<Figure size 640x480 with 1 Axes>"
            ]
          },
          "metadata": {},
          "output_type": "display_data"
        },
        {
          "data": {
            "image/png": "[encoded data removed]",
            "text/plain": [
              "<Figure size 640x480 with 1 Axes>"
            ]
          },
          "metadata": {},
          "output_type": "display_data"
        },
        {
          "name": "stdout",
          "output_type": "stream",
          "text": [
            "✅ Training curves plotted and saved.\n",
            "Loss plot saved at: /content/outputs/plots/loss_curve.png\n",
            "AUC plot saved at: /content/outputs/plots/val_auc_curve.png\n"
          ]
        }
      ],
      "source": [
        "import matplotlib.pyplot as plt\n",
        "\n",
        "# Load logs\n",
        "csv_file = f\"{METRICS_DIR}/training_log.csv\"\n",
        "df = pd.read_csv(csv_file)\n",
        "\n",
        "# ----- Plot Loss -----\n",
        "plt.figure()\n",
        "plt.plot(df['epoch'], df['train_loss'], label=\"Train Loss\")\n",
        "plt.plot(df['epoch'], df['val_loss'], label=\"Val Loss\")\n",
        "plt.xlabel(\"Epoch\")\n",
        "plt.ylabel(\"Loss\")\n",
        "plt.title(\"Training vs Validation Loss\")\n",
        "plt.legend()\n",
        "\n",
        "loss_plot_path = f\"{PLOTS_DIR}/loss_curve.png\"\n",
        "plt.savefig(loss_plot_path)\n",
        "plt.show()\n",
        "\n",
        "# ----- Plot AUROC -----\n",
        "plt.figure()\n",
        "plt.plot(df['epoch'], df['val_macro_auc'], label=\"Validation Macro AUC\")\n",
        "plt.xlabel(\"Epoch\")\n",
        "plt.ylabel(\"Macro AUC\")\n",
        "plt.title(\"Validation AUC Across Epochs\")\n",
        "plt.legend()\n",
        "\n",
        "auc_plot_path = f\"{PLOTS_DIR}/val_auc_curve.png\"\n",
        "plt.savefig(auc_plot_path)\n",
        "plt.show()\n",
        "\n",
        "print(\"✅ Training curves plotted and saved.\")\n",
        "print(f\"Loss plot saved at: {loss_plot_path}\")\n",
        "print(f\"AUC plot saved at: {auc_plot_path}\")"
      ]
    },
    {
      "cell_type": "markdown",
      "metadata": {
        "id": "-qrDOiJjlJl9"
      },
      "source": [
        "## Step 7 — Load Best Model & Evaluate on Test Set\n",
        "\n",
        "Now that frozen-backbone training is complete:\n",
        "\n",
        "We will:\n",
        "\n",
        "- Load the **best checkpoint from fine-tuning**\n",
        "- Run inference on the **test set**\n",
        "- Compute evaluation metrics:\n",
        "  - ✅ Test Loss\n",
        "  - ✅ Test Accuracy (multi-label)\n",
        "  - ✅ Per-class ROC-AUC\n",
        "  - ✅ Macro ROC-AUC\n",
        "- **Save predictions to CSV** (`test_predictions.csv`)\n",
        "- **Save final evaluation metrics** to a summary file  \n",
        "  (`final_results.csv`)\n",
        "\n",
        "📌 **Threshold = 0.5** to convert sigmoid outputs → binary labels\n",
        "\n"
      ]
    },
    {
      "cell_type": "code",
      "execution_count": 8,
      "metadata": {
        "colab": {
          "base_uri": "https://localhost:8080/"
        },
        "id": "tL3m3bywl1q2",
        "outputId": "296d5f8f-5211-44e6-a2cc-daf09b835b27"
      },
      "outputs": [
        {
          "name": "stdout",
          "output_type": "stream",
          "text": [
            "✅ Loaded best model.\n"
          ]
        }
      ],
      "source": [
        "# Load best model checkpoint\n",
        "best_model_path_finetune = f\"{CHECKPOINT_DIR}/densenet_finetuned_best.pt\"\n",
        "model.load_state_dict(torch.load(best_model_path_finetune, map_location=device))\n",
        "model.eval()\n",
        "print(\"✅ Loaded best model.\")"
      ]
    },
    {
      "cell_type": "code",
      "execution_count": 9,
      "metadata": {
        "colab": {
          "base_uri": "https://localhost:8080/"
        },
        "id": "postk9IImdrp",
        "outputId": "c9ebdc0e-ac80-4551-8662-0cc2d02af457"
      },
      "outputs": [
        {
          "name": "stderr",
          "output_type": "stream",
          "text": [
            "Testing: 100%|██████████| 400/400 [01:28<00:00,  4.50it/s]"
          ]
        },
        {
          "name": "stdout",
          "output_type": "stream",
          "text": [
            "✅ Test Loss: 0.2101\n",
            "✅ Test Accuracy: 0.9243\n"
          ]
        },
        {
          "name": "stderr",
          "output_type": "stream",
          "text": [
            "\n"
          ]
        }
      ],
      "source": [
        "test_loss = 0\n",
        "correct = 0\n",
        "total = 0\n",
        "all_labels = []\n",
        "all_probs = []\n",
        "\n",
        "with torch.no_grad():\n",
        "    for imgs, labels in tqdm(test_loader, desc=\"Testing\"):\n",
        "        imgs, labels = imgs.to(device), labels.to(device)\n",
        "\n",
        "        logits = model(imgs)\n",
        "        loss = criterion(logits, labels)\n",
        "        test_loss += loss.item()\n",
        "\n",
        "        probs = torch.sigmoid(logits)\n",
        "        preds = probs > 0.5\n",
        "\n",
        "        correct += (preds == labels.bool()).sum().item()\n",
        "        total += labels.numel()\n",
        "\n",
        "        all_labels.append(labels.cpu())\n",
        "        all_probs.append(probs.cpu())\n",
        "\n",
        "test_loss /= len(test_loader)\n",
        "test_accuracy = correct / total\n",
        "\n",
        "all_labels = torch.cat(all_labels).numpy()\n",
        "all_probs = torch.cat(all_probs).numpy()\n",
        "\n",
        "print(f\"✅ Test Loss: {test_loss:.4f}\")\n",
        "print(f\"✅ Test Accuracy: {test_accuracy:.4f}\")"
      ]
    },
    {
      "cell_type": "code",
      "execution_count": 10,
      "metadata": {
        "colab": {
          "base_uri": "https://localhost:8080/"
        },
        "id": "EtowxWtEmeay",
        "outputId": "80965786-4352-440d-f238-206b2dd08e4a"
      },
      "outputs": [
        {
          "name": "stdout",
          "output_type": "stream",
          "text": [
            "\n",
            "📊 Per-class ROC-AUC:\n",
            "Class 0: 0.7485\n",
            "Class 1: 0.8723\n",
            "Class 2: 0.8198\n",
            "Class 3: 0.6863\n",
            "Class 4: 0.7814\n",
            "Class 5: 0.7231\n",
            "Class 6: 0.6921\n",
            "Class 7: 0.8333\n",
            "Class 8: 0.7257\n",
            "Class 9: 0.8392\n",
            "Class 10: 0.8619\n",
            "Class 11: 0.7960\n",
            "Class 12: 0.7498\n",
            "Class 13: 0.9008\n",
            "\n",
            "🏅 Macro ROC-AUC: 0.7879\n"
          ]
        }
      ],
      "source": [
        "# Compute per-class AUC\n",
        "class_aucs = []\n",
        "for i in range(all_labels.shape[1]):\n",
        "    try:\n",
        "        auc = roc_auc_score(all_labels[:, i], all_probs[:, i])\n",
        "    except ValueError:\n",
        "        auc = float(\"nan\")  # class might have no positives\n",
        "    class_aucs.append(auc)\n",
        "\n",
        "macro_auc = np.nanmean(class_aucs)\n",
        "\n",
        "print(\"\\n📊 Per-class ROC-AUC:\")\n",
        "for idx, auc in enumerate(class_aucs):\n",
        "    print(f\"Class {idx}: {auc:.4f}\")\n",
        "\n",
        "print(f\"\\n🏅 Macro ROC-AUC: {macro_auc:.4f}\")"
      ]
    },
    {
      "cell_type": "code",
      "execution_count": 11,
      "metadata": {
        "colab": {
          "base_uri": "https://localhost:8080/"
        },
        "id": "fdg195XPmphm",
        "outputId": "0b79a566-992e-4079-9a84-b8ddce4e8a84"
      },
      "outputs": [
        {
          "name": "stdout",
          "output_type": "stream",
          "text": [
            "📁 Saved test predictions to /content/outputs/metrics/test_predictions.csv\n"
          ]
        }
      ],
      "source": [
        "test_pred_csv = f\"{METRICS_DIR}/test_predictions.csv\"\n",
        "\n",
        "df = pd.DataFrame({\n",
        "    **{f\"true_{i}\": all_labels[:, i] for i in range(all_labels.shape[1])},\n",
        "    **{f\"prob_{i}\": all_probs[:, i] for i in range(all_probs.shape[1])}\n",
        "})\n",
        "\n",
        "df.to_csv(test_pred_csv, index=False)\n",
        "print(f\"📁 Saved test predictions to {test_pred_csv}\")"
      ]
    },
    {
      "cell_type": "code",
      "execution_count": 12,
      "metadata": {
        "colab": {
          "base_uri": "https://localhost:8080/"
        },
        "id": "mOa_Q0Z_ms3H",
        "outputId": "1569f6e7-0078-471c-8155-13170dc0199f"
      },
      "outputs": [
        {
          "name": "stdout",
          "output_type": "stream",
          "text": [
            "✅ Saved final test metrics to /content/outputs/metrics/final_results.csv\n"
          ]
        }
      ],
      "source": [
        "# Save final metrics to CSV\n",
        "results_csv = f\"{METRICS_DIR}/final_results.csv\"\n",
        "\n",
        "file_exists = os.path.exists(results_csv)\n",
        "\n",
        "with open(results_csv, \"a\") as f:\n",
        "    if not file_exists:\n",
        "        f.write(\"test_loss,test_accuracy,macro_auc,\" +\n",
        "                \",\".join([f\"class_{i}_auc\" for i in range(len(class_aucs))]) + \"\\n\")\n",
        "\n",
        "    f.write(f\"{test_loss:.4f},{test_accuracy:.4f},{macro_auc:.4f},\" +\n",
        "            \",\".join([f\"{auc:.4f}\" for auc in class_aucs]) + \"\\n\")\n",
        "\n",
        "print(f\"✅ Saved final test metrics to {results_csv}\")"
      ]
    },
    {
      "cell_type": "markdown",
      "metadata": {
        "id": "1NiDiPn6mvVq"
      },
      "source": [
        "## 📦 Save Frozen-Backbone Outputs to Google Drive\n",
        "\n",
        "We now copy all results from `outputs/` to Google Drive under:\n",
        "\n",
        "**Google Drive path:**\n",
        "`MyDrive/FML_Project/densenet/finetuned/`\n",
        "\n",
        "This preserves model checkpoints, logs, evaluation results, and training plots for future use and keeps results organized by model and training stage.\n"
      ]
    },
    {
      "cell_type": "code",
      "execution_count": 13,
      "metadata": {
        "colab": {
          "base_uri": "https://localhost:8080/"
        },
        "id": "7TB2hH6im6g7",
        "outputId": "89cc67b0-86b0-4048-bec7-ecf0cd921a64"
      },
      "outputs": [
        {
          "name": "stdout",
          "output_type": "stream",
          "text": [
            "✅ Frozen-backbone outputs copied to Drive.\n"
          ]
        }
      ],
      "source": [
        "drive_base = \"/content/drive/MyDrive/FML_Project/densenet/finetuned\"\n",
        "subdirs = [\"checkpoints\", \"metrics\", \"plots\"]\n",
        "\n",
        "# Create target folders if not exist\n",
        "for sub in subdirs:\n",
        "    os.makedirs(f\"{drive_base}/{sub}\", exist_ok=True)\n",
        "\n",
        "# Copy data\n",
        "shutil.copytree(\"outputs/checkpoints\", f\"{drive_base}/checkpoints\", dirs_exist_ok=True)\n",
        "shutil.copytree(\"outputs/metrics\", f\"{drive_base}/metrics\", dirs_exist_ok=True)\n",
        "shutil.copytree(\"outputs/plots\", f\"{drive_base}/plots\", dirs_exist_ok=True)\n",
        "\n",
        "print(\"✅ Frozen-backbone outputs copied to Drive.\")"
      ]
    }
  ],
  "metadata": {
    "accelerator": "GPU",
    "colab": {
      "gpuType": "T4",
      "provenance": []
    },
    "kernelspec": {
      "display_name": "Python 3",
      "name": "python3"
    },
    "language_info": {
      "name": "python"
    }
  },
  "nbformat": 4,
  "nbformat_minor": 0
}
