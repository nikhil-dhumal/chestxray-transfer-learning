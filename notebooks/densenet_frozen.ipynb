{
  "nbformat": 4,
  "nbformat_minor": 0,
  "metadata": {
    "colab": {
      "provenance": [],
      "gpuType": "T4"
    },
    "kernelspec": {
      "name": "python3",
      "display_name": "Python 3"
    },
    "language_info": {
      "name": "python"
    },
    "accelerator": "GPU"
  },
  "cells": [
    {
      "cell_type": "markdown",
      "source": [
        "# DenseNet121 — Frozen Backbone Transfer Learning  \n",
        "**Objective:** Train a chest X-ray multi-label classifier using a **pretrained DenseNet121** where the convolutional backbone remains **frozen** and only a new classifier head is trained.\n",
        "\n",
        "---\n",
        "\n",
        "## 🎯 Goal of This Notebook  \n",
        "Use a pretrained DenseNet121 as a **fixed feature extractor** and train only the final classifier layer(s) on the NIH ChestX-ray14 dataset.\n",
        "\n",
        "This approach tests how far we can get **without updating backbone weights**, serving as a strong baseline.\n",
        "\n",
        "---\n",
        "\n",
        "## 🧠 Concept: Frozen Backbone  \n",
        "A **frozen backbone** means:\n",
        "\n",
        "- All convolutional layers from the pretrained DenseNet121 are **not updated**\n",
        "- Their weights remain exactly as learned on ImageNet\n",
        "- Only the newly added classification head is trained\n",
        "\n",
        "In practice, the model extracts features using DenseNet, and we only learn how to map those features to **14 disease labels**.\n",
        "\n",
        "---\n",
        "\n",
        "## ❓ Why Frozen Backbone?  \n",
        "This strategy is useful when:\n",
        "\n",
        "- We want fast training\n",
        "- We have limited compute (e.g., Colab GPU)\n",
        "- The dataset labels are expensive and we want to avoid overfitting early\n",
        "- We want a **baseline** before exploring more complex training setups\n",
        "\n",
        "Benefits:\n",
        "\n",
        "- **Much faster training**\n",
        "- **Fewer parameters trained** → lower memory usage\n",
        "- **Reduced risk of overfitting**\n",
        "\n",
        "---\n",
        "\n",
        "## 🩺 Task Overview  \n",
        "Dataset: **NIH ChestX-ray14**  \n",
        "Task: **Multi-label disease classification (14 thoracic diseases)**  \n",
        "Inputs: Images preprocessed to **RGB 224×224** (already done)\n",
        "\n",
        "The model will output **14 sigmoid logits** (one per disease).\n",
        "\n",
        "---\n",
        "\n",
        "## 📦 What This Notebook Will Do  \n",
        "1. Load pretrained DenseNet121  \n",
        "2. Freeze all backbone parameters  \n",
        "3. Replace classifier with a new multi-label classification head  \n",
        "4. Train only the head  \n",
        "5. Evaluate performance using:\n",
        "   - AUROC (per class & macro)\n",
        "   - F1-score\n",
        "   - Loss curves\n",
        "\n",
        "Output:\n",
        "\n",
        "- Trained baseline DenseNet model (frozen backbone)\n",
        "- Saved metrics & model checkpoint\n",
        "\n",
        "---\n",
        "\n",
        "## ✅ Expected Outcome  \n",
        "A reproducible, well-documented baseline model using DenseNet121 as a **fixed feature extractor**, ready to compare with future experiments.\n",
        "\n",
        "---\n"
      ],
      "metadata": {
        "id": "LqbX2k-SIwW5"
      }
    },
    {
      "cell_type": "markdown",
      "source": [
        "## 🧠 What is a Convolutional Neural Network (CNN)?\n",
        "\n",
        "A **Convolutional Neural Network (CNN)** is a type of deep learning model designed specifically for **image data**.  \n",
        "Instead of treating an image as a flat vector of pixels, CNNs understand **spatial structure** — how nearby pixels relate to each other — which makes them extremely effective for tasks like medical imaging, object detection, and image classification.\n",
        "\n",
        "---\n",
        "\n",
        "### 🔍 Key Idea\n",
        "\n",
        "CNNs learn visual patterns in a hierarchy:\n",
        "\n",
        "| Layer Stage | Learns | Example Features |\n",
        "|------------|--------|------------------|\n",
        "| Early Layers | Low-level patterns | edges, lines, corners |\n",
        "| Middle Layers | Mid-level patterns | textures, shapes, organs |\n",
        "| Deep Layers | High-level semantic concepts | disease-specific patterns, anatomical structures |\n",
        "\n",
        "The network gradually builds **abstract representations from raw pixels**, making it capable of recognizing complex medical patterns in chest X-rays.\n",
        "\n",
        "---\n",
        "\n",
        "### 🧱 Core Components\n",
        "\n",
        "#### 1️⃣ **Convolution Layers**\n",
        "- Slide small filters (kernels) across the image\n",
        "- Detect local patterns (lung textures, edges of ribs, opacities)\n",
        "\n",
        "#### 2️⃣ **Non-linear Activation**\n",
        "- Usually ReLU (Rectified Linear Unit)\n",
        "- Introduces non-linearity → allows learning complex relationships\n",
        "\n",
        "#### 3️⃣ **Pooling Layers**\n",
        "- Reduce spatial size (downsampling)\n",
        "- Keep most important information\n",
        "- Helps with computation efficiency and reduces overfitting\n",
        "\n",
        "#### 4️⃣ **Fully Connected / Classification Head**\n",
        "- Final layers that map features → class scores\n",
        "\n",
        "---\n",
        "\n",
        "### 🎯 Why CNNs Matter in Medical Imaging\n",
        "\n",
        "- X-rays contain **local structures** (lungs, ribs, heart)\n",
        "- Diseases appear as **patterns and shapes** (opacities, nodules, infiltrations)\n",
        "- CNNs can learn these visual signals directly from labeled images\n",
        "\n",
        "Traditional ML required manual feature extraction — CNNs automate that by learning features directly from data.\n",
        "\n",
        "---\n",
        "\n",
        "### 🧬 Relation to Our Model\n",
        "\n",
        "In this notebook, we use a **DenseNet121 CNN** pretrained on ImageNet.  \n",
        "We will **freeze its convolutional layers**, keeping their learned visual features intact, and only train the classification head for chest diseases.\n",
        "\n",
        "The CNN backbone already knows how to extract patterns like:\n",
        "\n",
        "- edges\n",
        "- textures\n",
        "- shapes\n",
        "- gradients and structures that generalize well to X-rays\n",
        "\n",
        "We simply adapt the final mapping to predict **14 thoracic disease labels**.\n",
        "\n",
        "---\n",
        "\n"
      ],
      "metadata": {
        "id": "nowQtHTmJam2"
      }
    },
    {
      "cell_type": "markdown",
      "source": [
        "## 🧠 What is DenseNet?\n",
        "\n",
        "**DenseNet (Dense Convolutional Network)** is a CNN architecture where\n",
        "**each layer receives inputs from all previous layers**.\\\n",
        "This is called **dense connectivity**.\n",
        "\n",
        "Instead of layers passing information only to the next layer, DenseNet\n",
        "organizes layers like:\n",
        "\n",
        "    Layer 0 → Layer 1 → Layer 2 → Layer 3 ...\n",
        "            ↘ Layer 2\n",
        "                ↘ Layer 3\n",
        "                    ↘ ...\n",
        "\n",
        "So **every layer has direct access to all earlier feature maps**.\n",
        "\n",
        "------------------------------------------------------------------------\n",
        "\n",
        "### 🎛 Why Dense Connections Matter\n",
        "\n",
        "DenseNet introduces *dense connectivity*, meaning each layer receives\n",
        "input from all previous layers.\\\n",
        "This leads to several advantages:\n",
        "\n",
        "| Benefit | Explanation |\n",
        "| --- | --- |\n",
        "| ✅ Better gradient flow | Direct paths reduce vanishing-gradient issues |\n",
        "| ✅ Feature reuse | Later layers reuse features learned earlier |\n",
        "| ✅ Efficient | Fewer parameters vs networks of similar depth |\n",
        "| ✅ Strong representation learning | Useful patterns preserved; improves generalization |\n",
        "\n",
        "\n",
        "DenseNet avoids the **vanishing gradient problem** by giving gradients\n",
        "**short paths** back to early layers - similar idea to ResNet but even\n",
        "more connected.\n",
        "\n",
        "------------------------------------------------------------------------\n",
        "\n",
        "### 🩺 Why DenseNet Works Well for X-rays\n",
        "\n",
        "Medical imaging often needs:\n",
        "\n",
        "-   fine-grained texture understanding (e.g., lung opacities)\n",
        "-   ability to handle subtle patterns\n",
        "-   efficient parameter usage (avoid overfitting on medical data)\n",
        "-   strong gradient propagation for deep feature learning\n",
        "\n",
        "DenseNet excels in **texture-heavy, subtle-detail datasets** --- exactly\n",
        "like chest X-rays.\n",
        "\n",
        "------------------------------------------------------------------------\n",
        "\n",
        "### ❓ Does vanishing gradient matter if we're freezing the backbone?\n",
        "\n",
        "Good question!\n",
        "\n",
        "- In this notebook, **we are freezing the DenseNet backbone**\n",
        "- That means **we are not backpropagating into DenseNet layers**\n",
        "- So DenseNet's gradient-handling features **do not affect training here**\n",
        "\n",
        "However — they *still matter* because DenseNet already learned strong features thanks to its architecture.\n",
        "\n",
        "---\n",
        "\n",
        "### 🧠 Why DenseNet's design still benefits us (even frozen)\n",
        "\n",
        "**DenseNet learned strong deep features**\n",
        "- Pretrained on millions of images → strong visual representations\n",
        "- These features transfer well to medical images  \n",
        "\n",
        "**Dense connectivity enabled better feature abstraction**\n",
        "- Feature reuse across layers → richer learned representations\n",
        "- Those features remain inside our frozen model\n",
        "\n",
        "**Stable gradient flow enabled deep training on ImageNet**\n",
        "- Dense links prevented signal decay during its original training\n",
        "- We inherit a deeply-trained feature extractor\n",
        "\n",
        "---\n",
        "\n",
        "### ✅ In short\n",
        "\n",
        "> We don't benefit from DenseNet's gradient flow **during our training**  \n",
        "> but we *do* benefit from the **representations it learned because of it**\n",
        "\n",
        "------------------------------------------------------------------------\n",
        "\n",
        "### 🧩 How DenseNet fits into our frozen-backbone setup\n",
        "\n",
        "What we use DenseNet for in this notebook:\n",
        "\n",
        "-   As a **fixed feature extractor**\n",
        "-   Providing high-quality medical-relevant features (textures, edges,\n",
        "    tissue patterns)\n",
        "-   Saving compute by **not retraining** deep layers\n",
        "-   Only training a new **classification head** on top\n",
        "\n",
        "This creates a **strong baseline** before we try fine-tuning later.\n",
        "\n",
        "------------------------------------------------------------------------\n",
        "\n",
        "### TL;DR\n",
        "\n",
        "DenseNet helps because:\n",
        "\n",
        "-   It learned powerful representations thanks to dense connectivity\n",
        "-   It handles subtle medical textures well\n",
        "-   Freezing allows fast training + avoids overfitting\n",
        "-   We reuse its pre-learned features instead of training from scratch\n",
        "\n",
        "Even though gradient benefits aren't used here (since frozen),\\\n",
        "**the resulting pretrained features are still valuable for our task.**\n"
      ],
      "metadata": {
        "id": "Uw5YSbc2KOC0"
      }
    },
    {
      "cell_type": "markdown",
      "source": [
        "# Step 1 — Environment & Dataset setup (mount Drive, copy & unzip)\n",
        "\n",
        "**Goal of this cell**\n",
        "\n",
        "1. Mount Google Drive (Colab) so we can access your uploaded zip file.  \n",
        "2. Copy the processed dataset zip from Drive into the Colab VM (faster I/O).  \n",
        "3. Unzip into a local folder (e.g. `/content/processed_dataset/`) to be used by DataLoaders.  \n",
        "4. Create standard output directories for checkpoints and metrics.  \n",
        "5. Set reproducibility seeds and check device (GPU).\n",
        "\n",
        "**Notes / conventions**\n",
        "- Set `DRIVE_ZIP_PATH` to the path of your zip on Google Drive (e.g. `/content/drive/MyDrive/your/path/processed_dataset.zip`).\n",
        "- We'll extract to `/content/processed_dataset/`. Adjust if you prefer another path.\n",
        "- Checkpoint policy:\n",
        "  - **Save the model with best validation metric** (e.g., best *val macro AUROC*). This is the primary checkpoint to keep.\n",
        "  - Optionally save periodic checkpoints (`epoch_{n}.pth`) for debugging / resume — useful but not required.\n",
        "  - Always save a `last.pth` at the end of training.\n",
        "- We'll also create an `outputs/` folder to store:\n",
        "  - `checkpoints/` (model `.pth` files)\n",
        "  - `metrics/` (per-epoch JSON/CSV of scores)\n",
        "  - `plots/` (loss & ROC images)\n",
        "\n"
      ],
      "metadata": {
        "id": "6QGYo4lrMn0h"
      }
    },
    {
      "cell_type": "code",
      "execution_count": 3,
      "metadata": {
        "colab": {
          "base_uri": "https://localhost:8080/"
        },
        "id": "A0V0jpu7Imt0",
        "outputId": "41aa2f0f-d9e8-41f7-95f6-fba2a11e1100"
      },
      "outputs": [
        {
          "output_type": "stream",
          "name": "stdout",
          "text": [
            "Mounted at /content/drive\n",
            "Copying zip from Drive to VM...\n",
            "Extracting /content/processed_dataset.zip -> /content/processed_dataset ...\n",
            "Extraction complete.\n",
            "Created output directories:\n",
            "  /content/outputs/checkpoints\n",
            "  /content/outputs/metrics\n",
            "  /content/outputs/plots\n",
            "Device: cuda\n",
            "CUDA device count: 1 - Tesla T4\n",
            "train: found 69220 files in /content/processed_dataset/train\n",
            "val: found 17304 files in /content/processed_dataset/val\n",
            "test: found 25596 files in /content/processed_dataset/test\n"
          ]
        }
      ],
      "source": [
        "# Step 1 code: mount drive, copy zip, unzip, create dirs, set seed, check device\n",
        "\n",
        "import os\n",
        "import zipfile\n",
        "import shutil\n",
        "import random\n",
        "import numpy as np\n",
        "import torch\n",
        "\n",
        "# =========== USER CONFIG - set this to your zip on Drive ===========\n",
        "DRIVE_ZIP_PATH = \"/content/drive/MyDrive/FML_Project/processed_dataset.zip\"  # <-- EDIT THIS\n",
        "EXTRACT_TO = \"/content/processed_dataset\"\n",
        "COPY_TO_VM = \"/content/processed_dataset.zip\"\n",
        "# ===================================================================\n",
        "\n",
        "# mount drive\n",
        "try:\n",
        "    from google.colab import drive\n",
        "    drive.mount('/content/drive', force_remount=False)\n",
        "except Exception:\n",
        "    print(\"Not running in Colab or 'google.colab' not available. Ensure DRIVE_ZIP_PATH is reachable.\")\n",
        "\n",
        "# copy zip from drive to VM (if it exists)\n",
        "if os.path.exists(DRIVE_ZIP_PATH):\n",
        "    print(\"Copying zip from Drive to VM...\")\n",
        "    shutil.copy2(DRIVE_ZIP_PATH, COPY_TO_VM)\n",
        "else:\n",
        "    print(f\"WARNING: Could not find zip at {DRIVE_ZIP_PATH}. Please update DRIVE_ZIP_PATH and re-run.\")\n",
        "    # still proceed if user pre-uploaded directly to VM\n",
        "\n",
        "# unzip\n",
        "if os.path.exists(COPY_TO_VM):\n",
        "    print(f\"Extracting {COPY_TO_VM} -> {EXTRACT_TO} ...\")\n",
        "    os.makedirs(EXTRACT_TO, exist_ok=True)\n",
        "    with zipfile.ZipFile(COPY_TO_VM, 'r') as zf:\n",
        "        zf.extractall(EXTRACT_TO)\n",
        "    print(\"Extraction complete.\")\n",
        "else:\n",
        "    if os.path.exists(EXTRACT_TO):\n",
        "        print(f\"{COPY_TO_VM} not found, but {EXTRACT_TO} already exists — skipping extraction.\")\n",
        "    else:\n",
        "        print(\"No zip copied and extraction dir not present. Make sure dataset is available.\")\n",
        "\n",
        "# create outputs folders\n",
        "OUT_DIR = \"/content/outputs\"\n",
        "CHECKPOINT_DIR = os.path.join(OUT_DIR, \"checkpoints\")\n",
        "METRICS_DIR = os.path.join(OUT_DIR, \"metrics\")\n",
        "PLOTS_DIR = os.path.join(OUT_DIR, \"plots\")\n",
        "os.makedirs(CHECKPOINT_DIR, exist_ok=True)\n",
        "os.makedirs(METRICS_DIR, exist_ok=True)\n",
        "os.makedirs(PLOTS_DIR, exist_ok=True)\n",
        "\n",
        "print(\"Created output directories:\")\n",
        "print(\" \", CHECKPOINT_DIR)\n",
        "print(\" \", METRICS_DIR)\n",
        "print(\" \", PLOTS_DIR)\n",
        "\n",
        "# reproducibility seeds\n",
        "SEED = 42\n",
        "random.seed(SEED)\n",
        "np.random.seed(SEED)\n",
        "torch.manual_seed(SEED)\n",
        "if torch.cuda.is_available():\n",
        "    torch.cuda.manual_seed_all(SEED)\n",
        "\n",
        "# device check\n",
        "device = torch.device(\"cuda\" if torch.cuda.is_available() else \"cpu\")\n",
        "print(\"Device:\", device)\n",
        "if device.type == \"cuda\":\n",
        "    print(\"CUDA device count:\", torch.cuda.device_count(), \"-\", torch.cuda.get_device_name(0))\n",
        "\n",
        "# summary of dataset folders (if extracted)\n",
        "for split in (\"train\", \"val\", \"test\"):\n",
        "    p = os.path.join(EXTRACT_TO, split)\n",
        "    if os.path.exists(p):\n",
        "        n = sum(len(files) for _, _, files in os.walk(p))\n",
        "        print(f\"{split}: found {n} files in {p}\")\n",
        "    else:\n",
        "        print(f\"{split}: directory not found at {p}\")"
      ]
    },
    {
      "cell_type": "markdown",
      "source": [
        "## Step 2 — Dataset, Transforms & DataLoader\n",
        "\n",
        "In this step, we will:\n",
        "\n",
        "1. Load NIH metadata (`Data_Entry_2017.csv`)\n",
        "2. Create a mapping for all **14 disease labels**\n",
        "3. Implement a custom PyTorch `Dataset` that:\n",
        "   - Reads image file names per split (`train / val / test`)\n",
        "   - Matches them with labels from metadata\n",
        "   - Converts labels into **multi-hot tensors** (multi-label problem)\n",
        "   - Applies augmentations (only for training)\n",
        "4. Build efficient `DataLoader`s for training, validation & testing\n",
        "\n",
        "### 🧠 Key Notes\n",
        "\n",
        "- **Multi-label classification**  \n",
        "  Each chest X-ray may contain **0, 1, or multiple diseases**  \n",
        "  Example: `\"Cardiomegaly|Effusion\"`\n",
        "\n",
        "- **`No Finding` → all-zero label vector**\n",
        "\n",
        "- **Transforms**\n",
        "  - ✅ Train: mild medical-safe augmentation  \n",
        "    (random crop, horizontal flip, small rotation)\n",
        "  - ✅ Val/Test: only resize + normalization\n",
        "\n",
        "- **Normalization**  \n",
        "  Using **ImageNet mean & std** because DenseNet is pretrained on ImageNet.\n"
      ],
      "metadata": {
        "id": "PyLQsZbAOn8A"
      }
    },
    {
      "cell_type": "code",
      "source": [
        "import pandas as pd\n",
        "from torch.utils.data import Dataset, DataLoader\n",
        "from torchvision import transforms\n",
        "from PIL import Image\n",
        "\n",
        "CSV_PATH = os.path.join(EXTRACT_TO, \"Data_Entry_2017.csv\")\n",
        "assert os.path.exists(CSV_PATH), f\"CSV not found at: {CSV_PATH}\"\n",
        "\n",
        "DISEASES = [\n",
        "    \"Atelectasis\", \"Cardiomegaly\", \"Effusion\", \"Infiltration\", \"Mass\",\n",
        "    \"Nodule\", \"Pneumonia\", \"Pneumothorax\", \"Consolidation\", \"Edema\",\n",
        "    \"Emphysema\", \"Fibrosis\", \"Pleural_Thickening\", \"Hernia\"\n",
        "]\n",
        "\n",
        "disease_to_idx = {d: i for i, d in enumerate(DISEASES)}\n",
        "\n",
        "meta_df = pd.read_csv(CSV_PATH)\n",
        "meta_df[\"Labels\"] = meta_df[\"Finding Labels\"].str.split(\"|\")\n",
        "\n",
        "def labels_to_tensor(labels):\n",
        "    vec = torch.zeros(len(DISEASES))\n",
        "    for label in labels:\n",
        "        if label in disease_to_idx:\n",
        "            vec[disease_to_idx[label]] = 1\n",
        "    return vec\n",
        "\n",
        "class NIH_Dataset(Dataset):\n",
        "    def __init__(self, root, split, transform=None):\n",
        "        self.root = os.path.join(root, split)\n",
        "        self.transform = transform\n",
        "\n",
        "        self.files = [f for f in os.listdir(self.root) if f.lower().endswith((\".png\", \".jpg\", \".jpeg\"))]\n",
        "        self.df = meta_df[meta_df[\"Image Index\"].isin(self.files)].reset_index(drop=True)\n",
        "\n",
        "    def __len__(self):\n",
        "        return len(self.df)\n",
        "\n",
        "    def __getitem__(self, idx):\n",
        "        row = self.df.iloc[idx]\n",
        "        img_path = os.path.join(self.root, row[\"Image Index\"])\n",
        "        img = Image.open(img_path).convert(\"RGB\")\n",
        "        label = labels_to_tensor(row[\"Labels\"])\n",
        "\n",
        "        if self.transform:\n",
        "            img = self.transform(img)\n",
        "\n",
        "        return img, label\n",
        "\n",
        "# transforms\n",
        "train_transform = transforms.Compose([\n",
        "    transforms.RandomResizedCrop(224, scale=(0.9, 1.0)),\n",
        "    transforms.RandomHorizontalFlip(),\n",
        "    transforms.RandomRotation(degrees=10),\n",
        "    transforms.ToTensor(),\n",
        "    transforms.Normalize(mean=[0.485, 0.456, 0.406], std=[0.229, 0.224, 0.225]),\n",
        "])\n",
        "\n",
        "eval_transform = transforms.Compose([\n",
        "    transforms.Resize((224, 224)),\n",
        "    transforms.ToTensor(),\n",
        "    transforms.Normalize(mean=[0.485, 0.456, 0.406], std=[0.229, 0.224, 0.225]),\n",
        "])\n",
        "\n",
        "# datasets\n",
        "train_ds = NIH_Dataset(EXTRACT_TO, \"train\", train_transform)\n",
        "val_ds   = NIH_Dataset(EXTRACT_TO, \"val\",   eval_transform)\n",
        "test_ds  = NIH_Dataset(EXTRACT_TO, \"test\",  eval_transform)\n",
        "\n",
        "# dataloaders\n",
        "BATCH_SIZE = 256\n",
        "NUM_WORKERS = 2\n",
        "\n",
        "train_loader = DataLoader(train_ds, batch_size=BATCH_SIZE, shuffle=True,  num_workers=NUM_WORKERS, pin_memory=True)\n",
        "val_loader   = DataLoader(val_ds,   batch_size=BATCH_SIZE, shuffle=False, num_workers=NUM_WORKERS, pin_memory=True)\n",
        "test_loader  = DataLoader(test_ds,  batch_size=BATCH_SIZE, shuffle=False, num_workers=NUM_WORKERS, pin_memory=True)\n",
        "\n",
        "len(train_ds), len(val_ds), len(test_ds)"
      ],
      "metadata": {
        "colab": {
          "base_uri": "https://localhost:8080/"
        },
        "id": "798WylfRN6Vy",
        "outputId": "67ccc657-0342-422d-f75f-547714f1956e"
      },
      "execution_count": 16,
      "outputs": [
        {
          "output_type": "execute_result",
          "data": {
            "text/plain": [
              "(69220, 17304, 25596)"
            ]
          },
          "metadata": {},
          "execution_count": 16
        }
      ]
    },
    {
      "cell_type": "markdown",
      "source": [
        "## Step 3 — Build Frozen DenseNet-121 Backbone\n",
        "\n",
        "We now load a **DenseNet-121 pretrained on ImageNet** and freeze its convolutional layers.\n",
        "\n",
        "### Why freeze?\n",
        "- We want to first evaluate DenseNet as a **fixed feature extractor**\n",
        "- Only the **new classification head** will learn\n",
        "\n",
        "### Architecture notes\n",
        "- DenseNet uses **dense connectivity** → strong feature reuse\n",
        "- Even though gradients won't flow into the frozen backbone, we still get\n",
        "  the **benefits of its pretrained medical-relevant feature representations**\n",
        "\n",
        "### Steps\n",
        "1. Load `densenet121(pretrained=True)`\n",
        "2. Freeze all feature extractor parameters\n",
        "3. Replace the classifier with a new head for **14 diseases**\n",
        "4. Move model to GPU\n"
      ],
      "metadata": {
        "id": "cvlUVdSqRbt5"
      }
    },
    {
      "cell_type": "code",
      "source": [
        "import torch.nn as nn\n",
        "from torchvision import models\n",
        "\n",
        "NUM_CLASSES = 14\n",
        "\n",
        "# Load DenseNet121 pre-trained on ImageNet\n",
        "model = models.densenet121(weights=models.DenseNet121_Weights.IMAGENET1K_V1)\n",
        "\n",
        "# Freeze backbone\n",
        "for param in model.features.parameters():\n",
        "    param.requires_grad = False\n",
        "\n",
        "# Replace classifier head\n",
        "in_features = model.classifier.in_features\n",
        "model.classifier = nn.Linear(in_features, NUM_CLASSES)\n",
        "\n",
        "model = model.to(device)\n",
        "\n",
        "# Count trainable params\n",
        "trainable_params = sum(p.numel() for p in model.parameters() if p.requires_grad)\n",
        "total_params = sum(p.numel() for p in model.parameters())\n",
        "\n",
        "trainable_params, total_params"
      ],
      "metadata": {
        "colab": {
          "base_uri": "https://localhost:8080/"
        },
        "id": "aD9UjH4tP7Dv",
        "outputId": "d378efa3-16e6-4e07-d7ec-dc8f6febb420"
      },
      "execution_count": 17,
      "outputs": [
        {
          "output_type": "execute_result",
          "data": {
            "text/plain": [
              "(14350, 6968206)"
            ]
          },
          "metadata": {},
          "execution_count": 17
        }
      ]
    },
    {
      "cell_type": "markdown",
      "source": [
        "## Step 4 — Loss Function & Optimizer\n",
        "\n",
        "Since this is a **multi-label classification** problem, each image can have\n",
        "0, 1, or multiple diseases. Therefore:\n",
        "\n",
        "### 🎯 Loss Function\n",
        "We use **Binary Cross-Entropy with Logits (BCEWithLogitsLoss)**:\n",
        "\n",
        "- Applies Sigmoid + BCE in one step\n",
        "- Stable for multi-label problems\n",
        "- Each class is treated independently\n",
        "\n",
        "### ⚙️ Optimizer\n",
        "For the frozen-backbone setup:\n",
        "\n",
        "- Only the classifier layers train\n",
        "- We use **Adam** with a small learning rate (1e-3)\n",
        "- Weight decay helps regularization\n",
        "\n"
      ],
      "metadata": {
        "id": "DTX0PB1pSVWA"
      }
    },
    {
      "cell_type": "code",
      "source": [
        "import torch.optim as optim\n",
        "\n",
        "# Loss for multi-label classification\n",
        "criterion = nn.BCEWithLogitsLoss()\n",
        "\n",
        "# Optimizer only for trainable params (classifier)\n",
        "optimizer = optim.Adam(\n",
        "    filter(lambda p: p.requires_grad, model.parameters()),\n",
        "    lr=1e-3,\n",
        "    weight_decay=1e-5\n",
        ")\n",
        "\n",
        "criterion, optimizer"
      ],
      "metadata": {
        "colab": {
          "base_uri": "https://localhost:8080/"
        },
        "id": "3Bn-4wf2SKe6",
        "outputId": "f0769f3f-ccc2-4f92-8ef1-623237bacf0a"
      },
      "execution_count": 18,
      "outputs": [
        {
          "output_type": "execute_result",
          "data": {
            "text/plain": [
              "(BCEWithLogitsLoss(),\n",
              " Adam (\n",
              " Parameter Group 0\n",
              "     amsgrad: False\n",
              "     betas: (0.9, 0.999)\n",
              "     capturable: False\n",
              "     decoupled_weight_decay: False\n",
              "     differentiable: False\n",
              "     eps: 1e-08\n",
              "     foreach: None\n",
              "     fused: None\n",
              "     lr: 0.001\n",
              "     maximize: False\n",
              "     weight_decay: 1e-05\n",
              " ))"
            ]
          },
          "metadata": {},
          "execution_count": 18
        }
      ]
    },
    {
      "cell_type": "markdown",
      "source": [
        "## Step 4 — Training Loop + CSV Logging + Best Checkpoint Saving\n",
        "\n",
        "In this step, we train our frozen DenseNet model and log performance metrics:\n",
        "\n",
        "### ✅ What we do\n",
        "- Train using **BCEWithLogitsLoss** (multi-label classification)\n",
        "- Track:\n",
        "  - `train_loss`\n",
        "  - `val_loss`\n",
        "  - `val_accuracy`\n",
        "- Append results each epoch to a CSV file (`training_log_frozen.csv`)\n",
        "- **Save the model checkpoint** only when validation loss improves\n",
        "\n",
        "### 🛠 Key Points\n",
        "- **Sigmoid is applied only during evaluation**, not inside the model\n",
        "- Prediction threshold = `0.5` → disease present\n",
        "- Frozen backbone → only classification layer is trained\n",
        "- Checkpoint saved to:  \n",
        "  `outputs/checkpoints/densenet_frozen_best.pt`\n",
        "\n",
        "This ensures:\n",
        "- We don't lose the best weights\n",
        "- We can resume\n"
      ],
      "metadata": {
        "id": "mBllFvOrS2yD"
      }
    },
    {
      "cell_type": "code",
      "source": [
        "import torch.nn.functional as F\n",
        "from tqdm import tqdm\n",
        "import csv\n",
        "\n",
        "EPOCHS = 20\n",
        "csv_file = f\"{METRICS_DIR}/training_log.csv\"\n",
        "checkpoint_path = f\"{CHECKPOINT_DIR}/densenet_frozen_best.pt\"\n",
        "\n",
        "best_val_loss = float(\"inf\")  # track best model\n",
        "\n",
        "# create CSV header if file does not exist\n",
        "if not os.path.exists(csv_file):\n",
        "    with open(csv_file, \"w\", newline=\"\") as f:\n",
        "        writer = csv.writer(f)\n",
        "        writer.writerow([\"epoch\", \"train_loss\", \"val_loss\", \"val_accuracy\"])\n",
        "\n",
        "for epoch in range(1, EPOCHS + 1):\n",
        "    model.train()\n",
        "    train_loss = 0\n",
        "\n",
        "    for imgs, labels in tqdm(train_loader, desc=f\"Epoch {epoch}/{EPOCHS} - Training\"):\n",
        "        imgs, labels = imgs.to(device), labels.to(device)\n",
        "\n",
        "        optimizer.zero_grad()\n",
        "        logits = model(imgs)\n",
        "        loss = criterion(logits, labels)\n",
        "\n",
        "        loss.backward()\n",
        "        optimizer.step()\n",
        "        train_loss += loss.item()\n",
        "\n",
        "    train_loss /= len(train_loader)\n",
        "\n",
        "    # ----- Validation -----\n",
        "    model.eval()\n",
        "    val_loss = 0\n",
        "    correct = 0\n",
        "    total = 0\n",
        "\n",
        "    with torch.no_grad():\n",
        "        for imgs, labels in tqdm(val_loader, desc=\"Validating\"):\n",
        "            imgs, labels = imgs.to(device), labels.to(device)\n",
        "\n",
        "            logits = model(imgs)\n",
        "            loss = criterion(logits, labels)\n",
        "            val_loss += loss.item()\n",
        "\n",
        "            preds = torch.sigmoid(logits) > 0.5\n",
        "            correct += (preds == labels.bool()).sum().item()\n",
        "            total += labels.numel()\n",
        "\n",
        "    val_loss /= len(val_loader)\n",
        "    val_accuracy = correct / total\n",
        "\n",
        "    # print metrics\n",
        "    print(f\"Epoch {epoch} | Train Loss: {train_loss:.4f} | \"\n",
        "          f\"Val Loss: {val_loss:.4f} | Val Acc: {val_accuracy:.4f}\")\n",
        "\n",
        "    # log to CSV\n",
        "    with open(csv_file, \"a\", newline=\"\") as f:\n",
        "        writer = csv.writer(f)\n",
        "        writer.writerow([epoch, train_loss, val_loss, val_accuracy])\n",
        "\n",
        "    # ----- Save best model -----\n",
        "    if val_loss < best_val_loss:\n",
        "        best_val_loss = val_loss\n",
        "        torch.save(model.state_dict(), checkpoint_path)\n",
        "        print(f\"✅ Saved best model at epoch {epoch} (val_loss={val_loss:.4f})\")"
      ],
      "metadata": {
        "colab": {
          "base_uri": "https://localhost:8080/"
        },
        "id": "wE3YisjBSrTE",
        "outputId": "6f1bf9f0-46b4-496e-ae34-6d94ac6300b9"
      },
      "execution_count": 19,
      "outputs": [
        {
          "output_type": "stream",
          "name": "stderr",
          "text": [
            "Epoch 1/20 - Training: 100%|██████████| 271/271 [05:42<00:00,  1.26s/it]\n",
            "Validating: 100%|██████████| 68/68 [01:03<00:00,  1.07it/s]\n"
          ]
        },
        {
          "output_type": "stream",
          "name": "stdout",
          "text": [
            "Epoch 1 | Train Loss: 0.1667 | Val Loss: 0.1595 | Val Acc: 0.9548\n",
            "✅ Saved best model at epoch 1 (val_loss=0.1595)\n"
          ]
        },
        {
          "output_type": "stream",
          "name": "stderr",
          "text": [
            "Epoch 2/20 - Training: 100%|██████████| 271/271 [05:37<00:00,  1.24s/it]\n",
            "Validating: 100%|██████████| 68/68 [01:00<00:00,  1.12it/s]\n"
          ]
        },
        {
          "output_type": "stream",
          "name": "stdout",
          "text": [
            "Epoch 2 | Train Loss: 0.1535 | Val Loss: 0.1559 | Val Acc: 0.9548\n",
            "✅ Saved best model at epoch 2 (val_loss=0.1559)\n"
          ]
        },
        {
          "output_type": "stream",
          "name": "stderr",
          "text": [
            "Epoch 3/20 - Training: 100%|██████████| 271/271 [05:38<00:00,  1.25s/it]\n",
            "Validating: 100%|██████████| 68/68 [01:00<00:00,  1.13it/s]\n"
          ]
        },
        {
          "output_type": "stream",
          "name": "stdout",
          "text": [
            "Epoch 3 | Train Loss: 0.1515 | Val Loss: 0.1555 | Val Acc: 0.9547\n",
            "✅ Saved best model at epoch 3 (val_loss=0.1555)\n"
          ]
        },
        {
          "output_type": "stream",
          "name": "stderr",
          "text": [
            "Epoch 4/20 - Training: 100%|██████████| 271/271 [05:34<00:00,  1.23s/it]\n",
            "Validating: 100%|██████████| 68/68 [00:58<00:00,  1.16it/s]\n"
          ]
        },
        {
          "output_type": "stream",
          "name": "stdout",
          "text": [
            "Epoch 4 | Train Loss: 0.1504 | Val Loss: 0.1535 | Val Acc: 0.9548\n",
            "✅ Saved best model at epoch 4 (val_loss=0.1535)\n"
          ]
        },
        {
          "output_type": "stream",
          "name": "stderr",
          "text": [
            "Epoch 5/20 - Training: 100%|██████████| 271/271 [05:27<00:00,  1.21s/it]\n",
            "Validating: 100%|██████████| 68/68 [00:59<00:00,  1.15it/s]\n"
          ]
        },
        {
          "output_type": "stream",
          "name": "stdout",
          "text": [
            "Epoch 5 | Train Loss: 0.1497 | Val Loss: 0.1538 | Val Acc: 0.9546\n"
          ]
        },
        {
          "output_type": "stream",
          "name": "stderr",
          "text": [
            "Epoch 6/20 - Training: 100%|██████████| 271/271 [05:28<00:00,  1.21s/it]\n",
            "Validating: 100%|██████████| 68/68 [00:58<00:00,  1.16it/s]\n"
          ]
        },
        {
          "output_type": "stream",
          "name": "stdout",
          "text": [
            "Epoch 6 | Train Loss: 0.1494 | Val Loss: 0.1530 | Val Acc: 0.9547\n",
            "✅ Saved best model at epoch 6 (val_loss=0.1530)\n"
          ]
        },
        {
          "output_type": "stream",
          "name": "stderr",
          "text": [
            "Epoch 7/20 - Training: 100%|██████████| 271/271 [05:31<00:00,  1.22s/it]\n",
            "Validating: 100%|██████████| 68/68 [00:58<00:00,  1.16it/s]\n"
          ]
        },
        {
          "output_type": "stream",
          "name": "stdout",
          "text": [
            "Epoch 7 | Train Loss: 0.1492 | Val Loss: 0.1525 | Val Acc: 0.9548\n",
            "✅ Saved best model at epoch 7 (val_loss=0.1525)\n"
          ]
        },
        {
          "output_type": "stream",
          "name": "stderr",
          "text": [
            "Epoch 8/20 - Training: 100%|██████████| 271/271 [05:25<00:00,  1.20s/it]\n",
            "Validating: 100%|██████████| 68/68 [00:59<00:00,  1.15it/s]\n"
          ]
        },
        {
          "output_type": "stream",
          "name": "stdout",
          "text": [
            "Epoch 8 | Train Loss: 0.1487 | Val Loss: 0.1536 | Val Acc: 0.9548\n"
          ]
        },
        {
          "output_type": "stream",
          "name": "stderr",
          "text": [
            "Epoch 9/20 - Training: 100%|██████████| 271/271 [05:34<00:00,  1.23s/it]\n",
            "Validating: 100%|██████████| 68/68 [00:58<00:00,  1.15it/s]\n"
          ]
        },
        {
          "output_type": "stream",
          "name": "stdout",
          "text": [
            "Epoch 9 | Train Loss: 0.1487 | Val Loss: 0.1522 | Val Acc: 0.9548\n",
            "✅ Saved best model at epoch 9 (val_loss=0.1522)\n"
          ]
        },
        {
          "output_type": "stream",
          "name": "stderr",
          "text": [
            "Epoch 10/20 - Training: 100%|██████████| 271/271 [05:32<00:00,  1.23s/it]\n",
            "Validating: 100%|██████████| 68/68 [00:58<00:00,  1.17it/s]\n"
          ]
        },
        {
          "output_type": "stream",
          "name": "stdout",
          "text": [
            "Epoch 10 | Train Loss: 0.1484 | Val Loss: 0.1524 | Val Acc: 0.9549\n"
          ]
        },
        {
          "output_type": "stream",
          "name": "stderr",
          "text": [
            "Epoch 11/20 - Training: 100%|██████████| 271/271 [05:31<00:00,  1.22s/it]\n",
            "Validating: 100%|██████████| 68/68 [00:59<00:00,  1.15it/s]\n"
          ]
        },
        {
          "output_type": "stream",
          "name": "stdout",
          "text": [
            "Epoch 11 | Train Loss: 0.1483 | Val Loss: 0.1536 | Val Acc: 0.9544\n"
          ]
        },
        {
          "output_type": "stream",
          "name": "stderr",
          "text": [
            "Epoch 12/20 - Training: 100%|██████████| 271/271 [05:27<00:00,  1.21s/it]\n",
            "Validating: 100%|██████████| 68/68 [00:59<00:00,  1.15it/s]\n"
          ]
        },
        {
          "output_type": "stream",
          "name": "stdout",
          "text": [
            "Epoch 12 | Train Loss: 0.1483 | Val Loss: 0.1526 | Val Acc: 0.9548\n"
          ]
        },
        {
          "output_type": "stream",
          "name": "stderr",
          "text": [
            "Epoch 13/20 - Training: 100%|██████████| 271/271 [05:50<00:00,  1.29s/it]\n",
            "Validating: 100%|██████████| 68/68 [00:59<00:00,  1.15it/s]\n"
          ]
        },
        {
          "output_type": "stream",
          "name": "stdout",
          "text": [
            "Epoch 13 | Train Loss: 0.1481 | Val Loss: 0.1531 | Val Acc: 0.9544\n"
          ]
        },
        {
          "output_type": "stream",
          "name": "stderr",
          "text": [
            "Epoch 14/20 - Training: 100%|██████████| 271/271 [05:22<00:00,  1.19s/it]\n",
            "Validating: 100%|██████████| 68/68 [00:58<00:00,  1.16it/s]\n"
          ]
        },
        {
          "output_type": "stream",
          "name": "stdout",
          "text": [
            "Epoch 14 | Train Loss: 0.1479 | Val Loss: 0.1522 | Val Acc: 0.9548\n"
          ]
        },
        {
          "output_type": "stream",
          "name": "stderr",
          "text": [
            "Epoch 15/20 - Training: 100%|██████████| 271/271 [05:29<00:00,  1.22s/it]\n",
            "Validating: 100%|██████████| 68/68 [00:59<00:00,  1.15it/s]\n"
          ]
        },
        {
          "output_type": "stream",
          "name": "stdout",
          "text": [
            "Epoch 15 | Train Loss: 0.1478 | Val Loss: 0.1527 | Val Acc: 0.9548\n"
          ]
        },
        {
          "output_type": "stream",
          "name": "stderr",
          "text": [
            "Epoch 16/20 - Training: 100%|██████████| 271/271 [05:24<00:00,  1.20s/it]\n",
            "Validating: 100%|██████████| 68/68 [00:58<00:00,  1.16it/s]\n"
          ]
        },
        {
          "output_type": "stream",
          "name": "stdout",
          "text": [
            "Epoch 16 | Train Loss: 0.1476 | Val Loss: 0.1518 | Val Acc: 0.9548\n",
            "✅ Saved best model at epoch 16 (val_loss=0.1518)\n"
          ]
        },
        {
          "output_type": "stream",
          "name": "stderr",
          "text": [
            "Epoch 17/20 - Training: 100%|██████████| 271/271 [05:29<00:00,  1.21s/it]\n",
            "Validating: 100%|██████████| 68/68 [00:58<00:00,  1.17it/s]\n"
          ]
        },
        {
          "output_type": "stream",
          "name": "stdout",
          "text": [
            "Epoch 17 | Train Loss: 0.1480 | Val Loss: 0.1516 | Val Acc: 0.9549\n",
            "✅ Saved best model at epoch 17 (val_loss=0.1516)\n"
          ]
        },
        {
          "output_type": "stream",
          "name": "stderr",
          "text": [
            "Epoch 18/20 - Training: 100%|██████████| 271/271 [05:31<00:00,  1.22s/it]\n",
            "Validating: 100%|██████████| 68/68 [00:59<00:00,  1.14it/s]\n"
          ]
        },
        {
          "output_type": "stream",
          "name": "stdout",
          "text": [
            "Epoch 18 | Train Loss: 0.1478 | Val Loss: 0.1520 | Val Acc: 0.9547\n"
          ]
        },
        {
          "output_type": "stream",
          "name": "stderr",
          "text": [
            "Epoch 19/20 - Training: 100%|██████████| 271/271 [05:28<00:00,  1.21s/it]\n",
            "Validating: 100%|██████████| 68/68 [00:58<00:00,  1.16it/s]\n"
          ]
        },
        {
          "output_type": "stream",
          "name": "stdout",
          "text": [
            "Epoch 19 | Train Loss: 0.1478 | Val Loss: 0.1520 | Val Acc: 0.9548\n"
          ]
        },
        {
          "output_type": "stream",
          "name": "stderr",
          "text": [
            "Epoch 20/20 - Training: 100%|██████████| 271/271 [05:30<00:00,  1.22s/it]\n",
            "Validating: 100%|██████████| 68/68 [01:00<00:00,  1.12it/s]"
          ]
        },
        {
          "output_type": "stream",
          "name": "stdout",
          "text": [
            "Epoch 20 | Train Loss: 0.1478 | Val Loss: 0.1524 | Val Acc: 0.9547\n"
          ]
        },
        {
          "output_type": "stream",
          "name": "stderr",
          "text": [
            "\n"
          ]
        }
      ]
    },
    {
      "cell_type": "markdown",
      "source": [
        "## Step 5 — Plot Training Curves (Loss & Accuracy)\n",
        "\n",
        "Once training is complete, we load the logged CSV file and plot the epoch-wise metrics.\n",
        "\n",
        "We will visualize:\n",
        "\n",
        "- Training Loss vs Validation Loss  \n",
        "- Training Accuracy vs Validation Accuracy  \n",
        "\n",
        "These help verify:\n",
        "- Overfitting / underfitting\n",
        "- Training stability\n",
        "- Model convergence trend\n",
        "\n",
        "Plots will also be saved inside the `outputs/` folder.\n"
      ],
      "metadata": {
        "id": "ZmptuE57ZVmq"
      }
    },
    {
      "cell_type": "code",
      "source": [
        "import matplotlib.pyplot as plt\n",
        "\n",
        "# Load logs\n",
        "csv_file = f\"{METRICS_DIR}/training_log_frozen.csv\"\n",
        "df = pd.read_csv(csv_file)\n",
        "\n",
        "# ----- Plot Loss -----\n",
        "plt.figure()\n",
        "plt.plot(df['epoch'], df['train_loss'], label=\"Train Loss\")\n",
        "plt.plot(df['epoch'], df['val_loss'], label=\"Val Loss\")\n",
        "plt.xlabel(\"Epoch\")\n",
        "plt.ylabel(\"Loss\")\n",
        "plt.title(\"Training vs Validation Loss\")\n",
        "plt.legend()\n",
        "\n",
        "loss_plot_path = f\"{PLOTS_DIR}/loss_curve.png\"\n",
        "plt.savefig(loss_plot_path)\n",
        "plt.show()\n",
        "\n",
        "# ----- Plot Accuracy -----\n",
        "plt.figure()\n",
        "plt.plot(df['epoch'], df['val_accuracy'], label=\"Validation Accuracy\")\n",
        "# (train accuracy wasn't computed — only val accuracy available)\n",
        "plt.xlabel(\"Epoch\")\n",
        "plt.ylabel(\"Accuracy\")\n",
        "plt.title(\"Validation Accuracy Across Epochs\")\n",
        "plt.legend()\n",
        "\n",
        "acc_plot_path = f\"{PLOTS_DIR}/val_accuracy_curve.png\"\n",
        "plt.savefig(acc_plot_path)\n",
        "plt.show()\n",
        "\n",
        "print(\"✅ Training curves plotted and saved.\")\n",
        "print(f\"Loss plot saved at: {loss_plot_path}\")\n",
        "print(f\"Accuracy plot saved at: {acc_plot_path}\")"
      ],
      "metadata": {
        "id": "fD3pm9zHZZit",
        "colab": {
          "base_uri": "https://localhost:8080/",
          "height": 979
        },
        "outputId": "f74c56ba-eee5-4b97-83ff-d245020299cc"
      },
      "execution_count": 20,
      "outputs": [
        {
          "output_type": "display_data",
          "data": {
            "text/plain": [
              "<Figure size 640x480 with 1 Axes>"
            ],
            "image/png": "[encoded data removed]"
          },
          "metadata": {}
        },
        {
          "output_type": "display_data",
          "data": {
            "text/plain": [
              "<Figure size 640x480 with 1 Axes>"
            ],
            "image/png": "[encoded data removed]"
          },
          "metadata": {}
        },
        {
          "output_type": "stream",
          "name": "stdout",
          "text": [
            "✅ Training curves plotted and saved.\n",
            "Loss plot saved at: /content/outputs/plots/loss_curve.png\n",
            "Accuracy plot saved at: /content/outputs/plots/val_accuracy_curve.png\n"
          ]
        }
      ]
    },
    {
      "cell_type": "markdown",
      "source": [
        "## Step 7 — Load Best Model & Evaluate on Test Set\n",
        "\n",
        "Now that frozen-backbone training is complete:\n",
        "\n",
        "We will:\n",
        "\n",
        "- Load the **best checkpoint from frozen-backbone training**\n",
        "- Run inference on the **test set**\n",
        "- Compute evaluation metrics:\n",
        "  - ✅ Test Loss\n",
        "  - ✅ Test Accuracy (multi-label)\n",
        "  - ✅ Per-class ROC-AUC\n",
        "  - ✅ Macro ROC-AUC\n",
        "- **Save predictions to CSV** (`test_predictions.csv`)\n",
        "- **Save final evaluation metrics** to a summary file  \n",
        "  (`final_results_frozen.csv`)\n",
        "\n",
        "📌 **Threshold = 0.5** to convert sigmoid outputs → binary labels\n",
        "\n"
      ],
      "metadata": {
        "id": "KanQMTezaMHc"
      }
    },
    {
      "cell_type": "code",
      "source": [
        "# Load best model checkpoint\n",
        "best_model_path_finetune = f\"{CHECKPOINT_DIR}/densenet_frozen_best.pt\"\n",
        "model.load_state_dict(torch.load(best_model_path_finetune, map_location=device))\n",
        "model.eval()\n",
        "print(\"✅ Loaded best model.\")"
      ],
      "metadata": {
        "id": "24hyWCgHacp0",
        "colab": {
          "base_uri": "https://localhost:8080/"
        },
        "outputId": "ee65435c-63fa-4ca6-c45a-d10b7fb29313"
      },
      "execution_count": 27,
      "outputs": [
        {
          "output_type": "stream",
          "name": "stdout",
          "text": [
            "✅ Loaded best model.\n"
          ]
        }
      ]
    },
    {
      "cell_type": "code",
      "source": [
        "from sklearn.metrics import roc_auc_score\n",
        "\n",
        "test_loss = 0\n",
        "correct = 0\n",
        "total = 0\n",
        "all_labels = []\n",
        "all_probs = []\n",
        "\n",
        "with torch.no_grad():\n",
        "    for imgs, labels in tqdm(test_loader, desc=\"Testing\"):\n",
        "        imgs, labels = imgs.to(device), labels.to(device)\n",
        "\n",
        "        logits = model(imgs)\n",
        "        loss = criterion(logits, labels)\n",
        "        test_loss += loss.item()\n",
        "\n",
        "        probs = torch.sigmoid(logits)\n",
        "        preds = probs > 0.5\n",
        "\n",
        "        correct += (preds == labels.bool()).sum().item()\n",
        "        total += labels.numel()\n",
        "\n",
        "        all_labels.append(labels.cpu())\n",
        "        all_probs.append(probs.cpu())\n",
        "\n",
        "test_loss /= len(test_loader)\n",
        "test_accuracy = correct / total\n",
        "\n",
        "all_labels = torch.cat(all_labels).numpy()\n",
        "all_probs = torch.cat(all_probs).numpy()\n",
        "\n",
        "print(f\"✅ Test Loss: {test_loss:.4f}\")\n",
        "print(f\"✅ Test Accuracy: {test_accuracy:.4f}\")"
      ],
      "metadata": {
        "colab": {
          "base_uri": "https://localhost:8080/"
        },
        "id": "OjP8lKffaezj",
        "outputId": "3407816e-91ec-435d-d193-9019d5ab7574"
      },
      "execution_count": 22,
      "outputs": [
        {
          "output_type": "stream",
          "name": "stderr",
          "text": [
            "Testing: 100%|██████████| 100/100 [01:30<00:00,  1.10it/s]"
          ]
        },
        {
          "output_type": "stream",
          "name": "stdout",
          "text": [
            "✅ Test Loss: 0.2326\n",
            "✅ Test Accuracy: 0.9233\n"
          ]
        },
        {
          "output_type": "stream",
          "name": "stderr",
          "text": [
            "\n"
          ]
        }
      ]
    },
    {
      "cell_type": "code",
      "source": [
        "# Compute per-class AUC\n",
        "class_aucs = []\n",
        "for i in range(all_labels.shape[1]):\n",
        "    try:\n",
        "        auc = roc_auc_score(all_labels[:, i], all_probs[:, i])\n",
        "    except ValueError:\n",
        "        auc = float(\"nan\")  # class might have no positives\n",
        "    class_aucs.append(auc)\n",
        "\n",
        "macro_auc = np.nanmean(class_aucs)\n",
        "\n",
        "print(\"\\n📊 Per-class ROC-AUC:\")\n",
        "for idx, auc in enumerate(class_aucs):\n",
        "    print(f\"Class {idx}: {auc:.4f}\")\n",
        "\n",
        "print(f\"\\n🏅 Macro ROC-AUC: {macro_auc:.4f}\")"
      ],
      "metadata": {
        "colab": {
          "base_uri": "https://localhost:8080/"
        },
        "id": "iS79l5-Raq3R",
        "outputId": "77138a0a-4a71-4cea-8b8a-2922475e8135"
      },
      "execution_count": 23,
      "outputs": [
        {
          "output_type": "stream",
          "name": "stdout",
          "text": [
            "\n",
            "📊 Per-class ROC-AUC:\n",
            "Class 0: 0.6543\n",
            "Class 1: 0.7097\n",
            "Class 2: 0.7123\n",
            "Class 3: 0.6508\n",
            "Class 4: 0.6511\n",
            "Class 5: 0.6590\n",
            "Class 6: 0.6175\n",
            "Class 7: 0.7284\n",
            "Class 8: 0.6746\n",
            "Class 9: 0.7787\n",
            "Class 10: 0.7266\n",
            "Class 11: 0.7478\n",
            "Class 12: 0.6769\n",
            "Class 13: 0.8244\n",
            "\n",
            "🏅 Macro ROC-AUC: 0.7009\n"
          ]
        }
      ]
    },
    {
      "cell_type": "code",
      "source": [
        "test_pred_csv = f\"{METRICS_DIR}/test_predictions.csv\"\n",
        "\n",
        "df = pd.DataFrame({\n",
        "    **{f\"true_{i}\": all_labels[:, i] for i in range(all_labels.shape[1])},\n",
        "    **{f\"prob_{i}\": all_probs[:, i] for i in range(all_probs.shape[1])}\n",
        "})\n",
        "\n",
        "df.to_csv(test_pred_csv, index=False)\n",
        "print(f\"📁 Saved test predictions to {test_pred_csv}\")"
      ],
      "metadata": {
        "colab": {
          "base_uri": "https://localhost:8080/"
        },
        "id": "5Rt4d3nxasgw",
        "outputId": "17c746f8-155d-4170-9d38-71899bd7de33"
      },
      "execution_count": 24,
      "outputs": [
        {
          "output_type": "stream",
          "name": "stdout",
          "text": [
            "📁 Saved test predictions to /content/outputs/metrics/test_predictions.csv\n"
          ]
        }
      ]
    },
    {
      "cell_type": "code",
      "source": [
        "# Save final metrics to CSV\n",
        "results_csv = f\"{METRICS_DIR}/final_results.csv\"\n",
        "\n",
        "file_exists = os.path.exists(results_csv)\n",
        "\n",
        "with open(results_csv, \"a\") as f:\n",
        "    if not file_exists:\n",
        "        f.write(\"test_loss,test_accuracy,macro_auc,\" +\n",
        "                \",\".join([f\"class_{i}_auc\" for i in range(len(class_aucs))]) + \"\\n\")\n",
        "\n",
        "    f.write(f\"{test_loss:.4f},{test_accuracy:.4f},{macro_auc:.4f},\" +\n",
        "            \",\".join([f\"{auc:.4f}\" for auc in class_aucs]) + \"\\n\")\n",
        "\n",
        "print(f\"✅ Saved final test metrics to {results_csv}\")"
      ],
      "metadata": {
        "colab": {
          "base_uri": "https://localhost:8080/"
        },
        "id": "hfyZ8JArbR1t",
        "outputId": "83db8e38-70fc-4a64-df15-4967c2cf5183"
      },
      "execution_count": 25,
      "outputs": [
        {
          "output_type": "stream",
          "name": "stdout",
          "text": [
            "✅ Saved final test metrics to /content/outputs/metrics/final_results.csv\n"
          ]
        }
      ]
    },
    {
      "cell_type": "markdown",
      "source": [
        "## 📦 Save Frozen-Backbone Outputs to Google Drive\n",
        "\n",
        "We now copy all results from `outputs/` to Google Drive under:\n",
        "\n",
        "**Google Drive path:**\n",
        "`MyDrive/FML_Project/densenet/frozen_backbone/`\n",
        "\n",
        "This preserves model checkpoints, logs, evaluation results, and training plots for future use and keeps results organized by model and training stage.\n"
      ],
      "metadata": {
        "id": "pcDLGhv2bd5L"
      }
    },
    {
      "cell_type": "code",
      "source": [
        "drive_base = \"/content/drive/MyDrive/FML_Project/densenet/frozen_backbone\"\n",
        "subdirs = [\"checkpoints\", \"metrics\", \"plots\"]\n",
        "\n",
        "# Create target folders if not exist\n",
        "for sub in subdirs:\n",
        "    os.makedirs(f\"{drive_base}/{sub}\", exist_ok=True)\n",
        "\n",
        "# Copy data\n",
        "shutil.copytree(\"outputs/checkpoints\", f\"{drive_base}/checkpoints\", dirs_exist_ok=True)\n",
        "shutil.copytree(\"outputs/metrics\", f\"{drive_base}/metrics\", dirs_exist_ok=True)\n",
        "shutil.copytree(\"outputs/plots\", f\"{drive_base}/plots\", dirs_exist_ok=True)\n",
        "\n",
        "print(\"✅ Frozen-backbone outputs copied to Drive.\")"
      ],
      "metadata": {
        "id": "CvjIZWb7eJuG",
        "colab": {
          "base_uri": "https://localhost:8080/"
        },
        "outputId": "4d0dfcec-dc0b-42c6-e077-e4d91394cd69"
      },
      "execution_count": 26,
      "outputs": [
        {
          "output_type": "stream",
          "name": "stdout",
          "text": [
            "✅ Frozen-backbone outputs copied to Drive.\n"
          ]
        }
      ]
    }
  ]
}